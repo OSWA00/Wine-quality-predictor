{
 "cells": [
  {
   "cell_type": "markdown",
   "id": "5f889bcd",
   "metadata": {},
   "source": [
    "# Wine data model development and evaluation"
   ]
  },
  {
   "cell_type": "markdown",
   "id": "b558c90e",
   "metadata": {},
   "source": [
    "Classfiers to evaluate their performance:\n",
    "- Logistic regression.\n",
    "- Support vector machine\n",
    "- K-nearest neighbor classifier\n",
    "- Random forest classifier\n",
    "- Decision tree classifier\n",
    "- Gradient boosting classifier\n",
    "- Gaussian naive bayes classifier"
   ]
  },
  {
   "cell_type": "code",
   "execution_count": 36,
   "id": "6cc1c1d2",
   "metadata": {},
   "outputs": [],
   "source": [
    "import pandas as pd\n",
    "from sklearn.preprocessing import LabelEncoder\n",
    "from sklearn.model_selection import train_test_split\n",
    "import xgboost as xgb"
   ]
  },
  {
   "cell_type": "markdown",
   "id": "aa15bdc7",
   "metadata": {},
   "source": [
    "## Loading the dataset"
   ]
  },
  {
   "cell_type": "code",
   "execution_count": 29,
   "id": "4b7952a5",
   "metadata": {
    "scrolled": true
   },
   "outputs": [
    {
     "data": {
      "text/plain": [
       "Index(['type', 'fixed acidity', 'volatile acidity', 'citric acid',\n",
       "       'residual sugar', 'chlorides', 'free sulfur dioxide',\n",
       "       'total sulfur dioxide', 'density', 'pH', 'sulphates', 'alcohol',\n",
       "       'quality', 'quality_label'],\n",
       "      dtype='object')"
      ]
     },
     "execution_count": 29,
     "metadata": {},
     "output_type": "execute_result"
    }
   ],
   "source": [
    "df_wines = pd.read_csv(\"../data/wine_data_model.csv\")\n",
    "df_wines.columns"
   ]
  },
  {
   "cell_type": "markdown",
   "id": "865f63fb",
   "metadata": {},
   "source": [
    "## Label encoding"
   ]
  },
  {
   "cell_type": "code",
   "execution_count": 30,
   "id": "056e90b0",
   "metadata": {},
   "outputs": [],
   "source": [
    "label_quality = LabelEncoder()\n",
    "df_wines['quality_label'] = label_quality.fit_transform(df_wines['quality_label'])"
   ]
  },
  {
   "cell_type": "markdown",
   "id": "a05903a9",
   "metadata": {},
   "source": [
    "## Train-test split "
   ]
  },
  {
   "cell_type": "code",
   "execution_count": 33,
   "id": "1af3d13d",
   "metadata": {},
   "outputs": [],
   "source": [
    "x_train,x_test,y_train,y_test=train_test_split(df_wines.drop(['quality','type'],axis=1),df_wines['quality_label'],test_size=0.20,random_state=42)"
   ]
  }
 ],
 "metadata": {
  "kernelspec": {
   "display_name": "Python 3 (ipykernel)",
   "language": "python",
   "name": "python3"
  },
  "language_info": {
   "codemirror_mode": {
    "name": "ipython",
    "version": 3
   },
   "file_extension": ".py",
   "mimetype": "text/x-python",
   "name": "python",
   "nbconvert_exporter": "python",
   "pygments_lexer": "ipython3",
   "version": "3.8.13"
  }
 },
 "nbformat": 4,
 "nbformat_minor": 5
}
