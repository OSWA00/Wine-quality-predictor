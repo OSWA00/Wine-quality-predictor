{
 "cells": [
  {
   "cell_type": "markdown",
   "source": "# Exploratory data analysis & model evaluation: Wine quality data",
   "metadata": {
    "cell_id": "cd6b0f2a-3aad-4e10-ab4b-d91534f4fc80",
    "deepnote_cell_type": "markdown"
   }
  },
  {
   "cell_type": "code",
   "metadata": {
    "cell_id": "00001-8ec5bf3b-a1a6-4178-b707-ae0094153d70",
    "deepnote_to_be_reexecuted": false,
    "execution_millis": 3780,
    "execution_start": 1644443314273,
    "source_hash": "190eac89",
    "deepnote_cell_type": "code"
   },
   "source": "# EDA\nimport pandas as pd\nimport numpy as np\nimport seaborn as sns\nimport matplotlib.pyplot as plt\n\nfrom scipy.stats import norm\nfrom scipy.stats import probplot\n\nfrom sklearn.impute import SimpleImputer\n\nfrom typing import Tuple\n\n# Model\nfrom sklearn.model_selection import train_test_split\nfrom sklearn.model_selection import KFold\nfrom sklearn.metrics import mean_squared_error\nfrom sklearn.preprocessing import StandardScaler\nfrom sklearn.pipeline import Pipeline\nfrom sklearn.model_selection import GridSearchCV\nfrom xgboost import XGBClassifier\nimport joblib\n\nimport warnings\n\nwarnings.filterwarnings(\"ignore\")\n",
   "execution_count": null,
   "outputs": []
  },
  {
   "cell_type": "code",
   "metadata": {
    "cell_id": "00002-c4bcd25c-7227-4dec-a180-76a371471446",
    "deepnote_output_heights": [
     1
    ],
    "deepnote_to_be_reexecuted": false,
    "execution_millis": 149,
    "execution_start": 1644443318063,
    "source_hash": "686339",
    "tags": [],
    "deepnote_cell_type": "code"
   },
   "source": "# Import raw data\nraw_data = pd.read_csv(\"../data/winequalityN.csv\")\nraw_data.head()\n\nraw_data = pd.get_dummies(raw_data)\nraw_data.head()\n",
   "execution_count": null,
   "outputs": [
    {
     "output_type": "execute_result",
     "execution_count": 2,
     "data": {
      "application/vnd.deepnote.dataframe.v3+json": {
       "column_count": 14,
       "row_count": 5,
       "columns": [
        {
         "name": "fixed acidity",
         "dtype": "float64",
         "stats": {
          "unique_count": 4,
          "nan_count": 0,
          "min": "6.3",
          "max": "8.1",
          "histogram": [
           {
            "bin_start": 6.3,
            "bin_end": 6.4799999999999995,
            "count": 1
           },
           {
            "bin_start": 6.4799999999999995,
            "bin_end": 6.66,
            "count": 0
           },
           {
            "bin_start": 6.66,
            "bin_end": 6.84,
            "count": 0
           },
           {
            "bin_start": 6.84,
            "bin_end": 7.02,
            "count": 1
           },
           {
            "bin_start": 7.02,
            "bin_end": 7.199999999999999,
            "count": 0
           },
           {
            "bin_start": 7.199999999999999,
            "bin_end": 7.38,
            "count": 2
           },
           {
            "bin_start": 7.38,
            "bin_end": 7.56,
            "count": 0
           },
           {
            "bin_start": 7.56,
            "bin_end": 7.74,
            "count": 0
           },
           {
            "bin_start": 7.74,
            "bin_end": 7.92,
            "count": 0
           },
           {
            "bin_start": 7.92,
            "bin_end": 8.1,
            "count": 1
           }
          ]
         }
        },
        {
         "name": "volatile acidity",
         "dtype": "float64",
         "stats": {
          "unique_count": 4,
          "nan_count": 0,
          "min": "0.23",
          "max": "0.3",
          "histogram": [
           {
            "bin_start": 0.23,
            "bin_end": 0.23700000000000002,
            "count": 2
           },
           {
            "bin_start": 0.23700000000000002,
            "bin_end": 0.244,
            "count": 0
           },
           {
            "bin_start": 0.244,
            "bin_end": 0.251,
            "count": 0
           },
           {
            "bin_start": 0.251,
            "bin_end": 0.258,
            "count": 0
           },
           {
            "bin_start": 0.258,
            "bin_end": 0.265,
            "count": 0
           },
           {
            "bin_start": 0.265,
            "bin_end": 0.272,
            "count": 1
           },
           {
            "bin_start": 0.272,
            "bin_end": 0.27899999999999997,
            "count": 0
           },
           {
            "bin_start": 0.27899999999999997,
            "bin_end": 0.286,
            "count": 1
           },
           {
            "bin_start": 0.286,
            "bin_end": 0.293,
            "count": 0
           },
           {
            "bin_start": 0.293,
            "bin_end": 0.3,
            "count": 1
           }
          ]
         }
        },
        {
         "name": "citric acid",
         "dtype": "float64",
         "stats": {
          "unique_count": 4,
          "nan_count": 0,
          "min": "0.32",
          "max": "0.4",
          "histogram": [
           {
            "bin_start": 0.32,
            "bin_end": 0.328,
            "count": 2
           },
           {
            "bin_start": 0.328,
            "bin_end": 0.336,
            "count": 0
           },
           {
            "bin_start": 0.336,
            "bin_end": 0.34400000000000003,
            "count": 1
           },
           {
            "bin_start": 0.34400000000000003,
            "bin_end": 0.35200000000000004,
            "count": 0
           },
           {
            "bin_start": 0.35200000000000004,
            "bin_end": 0.36,
            "count": 0
           },
           {
            "bin_start": 0.36,
            "bin_end": 0.368,
            "count": 1
           },
           {
            "bin_start": 0.368,
            "bin_end": 0.376,
            "count": 0
           },
           {
            "bin_start": 0.376,
            "bin_end": 0.384,
            "count": 0
           },
           {
            "bin_start": 0.384,
            "bin_end": 0.392,
            "count": 0
           },
           {
            "bin_start": 0.392,
            "bin_end": 0.4,
            "count": 1
           }
          ]
         }
        },
        {
         "name": "residual sugar",
         "dtype": "float64",
         "stats": {
          "unique_count": 4,
          "nan_count": 0,
          "min": "1.6",
          "max": "20.7",
          "histogram": [
           {
            "bin_start": 1.6,
            "bin_end": 3.51,
            "count": 1
           },
           {
            "bin_start": 3.51,
            "bin_end": 5.42,
            "count": 0
           },
           {
            "bin_start": 5.42,
            "bin_end": 7.329999999999998,
            "count": 1
           },
           {
            "bin_start": 7.329999999999998,
            "bin_end": 9.239999999999998,
            "count": 2
           },
           {
            "bin_start": 9.239999999999998,
            "bin_end": 11.149999999999999,
            "count": 0
           },
           {
            "bin_start": 11.149999999999999,
            "bin_end": 13.059999999999997,
            "count": 0
           },
           {
            "bin_start": 13.059999999999997,
            "bin_end": 14.969999999999997,
            "count": 0
           },
           {
            "bin_start": 14.969999999999997,
            "bin_end": 16.88,
            "count": 0
           },
           {
            "bin_start": 16.88,
            "bin_end": 18.79,
            "count": 0
           },
           {
            "bin_start": 18.79,
            "bin_end": 20.7,
            "count": 1
           }
          ]
         }
        },
        {
         "name": "chlorides",
         "dtype": "float64",
         "stats": {
          "unique_count": 4,
          "nan_count": 0,
          "min": "0.045",
          "max": "0.058",
          "histogram": [
           {
            "bin_start": 0.045,
            "bin_end": 0.0463,
            "count": 1
           },
           {
            "bin_start": 0.0463,
            "bin_end": 0.047599999999999996,
            "count": 0
           },
           {
            "bin_start": 0.047599999999999996,
            "bin_end": 0.0489,
            "count": 0
           },
           {
            "bin_start": 0.0489,
            "bin_end": 0.0502,
            "count": 2
           },
           {
            "bin_start": 0.0502,
            "bin_end": 0.051500000000000004,
            "count": 0
           },
           {
            "bin_start": 0.051500000000000004,
            "bin_end": 0.0528,
            "count": 0
           },
           {
            "bin_start": 0.0528,
            "bin_end": 0.0541,
            "count": 0
           },
           {
            "bin_start": 0.0541,
            "bin_end": 0.055400000000000005,
            "count": 0
           },
           {
            "bin_start": 0.055400000000000005,
            "bin_end": 0.0567,
            "count": 0
           },
           {
            "bin_start": 0.0567,
            "bin_end": 0.058,
            "count": 2
           }
          ]
         }
        },
        {
         "name": "free sulfur dioxide",
         "dtype": "float64",
         "stats": {
          "unique_count": 4,
          "nan_count": 0,
          "min": "14.0",
          "max": "47.0",
          "histogram": [
           {
            "bin_start": 14,
            "bin_end": 17.3,
            "count": 1
           },
           {
            "bin_start": 17.3,
            "bin_end": 20.6,
            "count": 0
           },
           {
            "bin_start": 20.6,
            "bin_end": 23.9,
            "count": 0
           },
           {
            "bin_start": 23.9,
            "bin_end": 27.2,
            "count": 0
           },
           {
            "bin_start": 27.2,
            "bin_end": 30.5,
            "count": 1
           },
           {
            "bin_start": 30.5,
            "bin_end": 33.8,
            "count": 0
           },
           {
            "bin_start": 33.8,
            "bin_end": 37.099999999999994,
            "count": 0
           },
           {
            "bin_start": 37.099999999999994,
            "bin_end": 40.4,
            "count": 0
           },
           {
            "bin_start": 40.4,
            "bin_end": 43.7,
            "count": 0
           },
           {
            "bin_start": 43.7,
            "bin_end": 47,
            "count": 3
           }
          ]
         }
        },
        {
         "name": "total sulfur dioxide",
         "dtype": "float64",
         "stats": {
          "unique_count": 4,
          "nan_count": 0,
          "min": "97.0",
          "max": "186.0",
          "histogram": [
           {
            "bin_start": 97,
            "bin_end": 105.9,
            "count": 1
           },
           {
            "bin_start": 105.9,
            "bin_end": 114.8,
            "count": 0
           },
           {
            "bin_start": 114.8,
            "bin_end": 123.7,
            "count": 0
           },
           {
            "bin_start": 123.7,
            "bin_end": 132.6,
            "count": 1
           },
           {
            "bin_start": 132.6,
            "bin_end": 141.5,
            "count": 0
           },
           {
            "bin_start": 141.5,
            "bin_end": 150.4,
            "count": 0
           },
           {
            "bin_start": 150.4,
            "bin_end": 159.3,
            "count": 0
           },
           {
            "bin_start": 159.3,
            "bin_end": 168.2,
            "count": 0
           },
           {
            "bin_start": 168.2,
            "bin_end": 177.10000000000002,
            "count": 1
           },
           {
            "bin_start": 177.10000000000002,
            "bin_end": 186,
            "count": 2
           }
          ]
         }
        },
        {
         "name": "density",
         "dtype": "float64",
         "stats": {
          "unique_count": 4,
          "nan_count": 0,
          "min": "0.994",
          "max": "1.001",
          "histogram": [
           {
            "bin_start": 0.994,
            "bin_end": 0.9947,
            "count": 1
           },
           {
            "bin_start": 0.9947,
            "bin_end": 0.9954,
            "count": 1
           },
           {
            "bin_start": 0.9954,
            "bin_end": 0.9961,
            "count": 2
           },
           {
            "bin_start": 0.9961,
            "bin_end": 0.9967999999999999,
            "count": 0
           },
           {
            "bin_start": 0.9967999999999999,
            "bin_end": 0.9974999999999999,
            "count": 0
           },
           {
            "bin_start": 0.9974999999999999,
            "bin_end": 0.9982,
            "count": 0
           },
           {
            "bin_start": 0.9982,
            "bin_end": 0.9988999999999999,
            "count": 0
           },
           {
            "bin_start": 0.9988999999999999,
            "bin_end": 0.9995999999999999,
            "count": 0
           },
           {
            "bin_start": 0.9995999999999999,
            "bin_end": 1.0003,
            "count": 0
           },
           {
            "bin_start": 1.0003,
            "bin_end": 1.001,
            "count": 1
           }
          ]
         }
        },
        {
         "name": "pH",
         "dtype": "float64",
         "stats": {
          "unique_count": 4,
          "nan_count": 0,
          "min": "3.0",
          "max": "3.3",
          "histogram": [
           {
            "bin_start": 3,
            "bin_end": 3.03,
            "count": 1
           },
           {
            "bin_start": 3.03,
            "bin_end": 3.06,
            "count": 0
           },
           {
            "bin_start": 3.06,
            "bin_end": 3.09,
            "count": 0
           },
           {
            "bin_start": 3.09,
            "bin_end": 3.12,
            "count": 0
           },
           {
            "bin_start": 3.12,
            "bin_end": 3.15,
            "count": 0
           },
           {
            "bin_start": 3.15,
            "bin_end": 3.1799999999999997,
            "count": 0
           },
           {
            "bin_start": 3.1799999999999997,
            "bin_end": 3.21,
            "count": 2
           },
           {
            "bin_start": 3.21,
            "bin_end": 3.2399999999999998,
            "count": 0
           },
           {
            "bin_start": 3.2399999999999998,
            "bin_end": 3.27,
            "count": 1
           },
           {
            "bin_start": 3.27,
            "bin_end": 3.3,
            "count": 1
           }
          ]
         }
        },
        {
         "name": "sulphates",
         "dtype": "float64",
         "stats": {
          "unique_count": 4,
          "nan_count": 0,
          "min": "0.4",
          "max": "0.49",
          "histogram": [
           {
            "bin_start": 0.4,
            "bin_end": 0.40900000000000003,
            "count": 2
           },
           {
            "bin_start": 0.40900000000000003,
            "bin_end": 0.41800000000000004,
            "count": 0
           },
           {
            "bin_start": 0.41800000000000004,
            "bin_end": 0.427,
            "count": 0
           },
           {
            "bin_start": 0.427,
            "bin_end": 0.436,
            "count": 0
           },
           {
            "bin_start": 0.436,
            "bin_end": 0.445,
            "count": 1
           },
           {
            "bin_start": 0.445,
            "bin_end": 0.454,
            "count": 1
           },
           {
            "bin_start": 0.454,
            "bin_end": 0.463,
            "count": 0
           },
           {
            "bin_start": 0.463,
            "bin_end": 0.472,
            "count": 0
           },
           {
            "bin_start": 0.472,
            "bin_end": 0.481,
            "count": 0
           },
           {
            "bin_start": 0.481,
            "bin_end": 0.49,
            "count": 1
           }
          ]
         }
        },
        {
         "name": "alcohol",
         "dtype": "float64",
         "stats": {
          "unique_count": 4,
          "nan_count": 0,
          "min": "8.8",
          "max": "10.1",
          "histogram": [
           {
            "bin_start": 8.8,
            "bin_end": 8.93,
            "count": 1
           },
           {
            "bin_start": 8.93,
            "bin_end": 9.06,
            "count": 0
           },
           {
            "bin_start": 9.06,
            "bin_end": 9.190000000000001,
            "count": 0
           },
           {
            "bin_start": 9.190000000000001,
            "bin_end": 9.32,
            "count": 0
           },
           {
            "bin_start": 9.32,
            "bin_end": 9.45,
            "count": 0
           },
           {
            "bin_start": 9.45,
            "bin_end": 9.58,
            "count": 1
           },
           {
            "bin_start": 9.58,
            "bin_end": 9.71,
            "count": 0
           },
           {
            "bin_start": 9.71,
            "bin_end": 9.84,
            "count": 0
           },
           {
            "bin_start": 9.84,
            "bin_end": 9.969999999999999,
            "count": 2
           },
           {
            "bin_start": 9.969999999999999,
            "bin_end": 10.1,
            "count": 1
           }
          ]
         }
        },
        {
         "name": "quality",
         "dtype": "int64",
         "stats": {
          "unique_count": 1,
          "nan_count": 0,
          "min": "6",
          "max": "6",
          "histogram": [
           {
            "bin_start": 5.5,
            "bin_end": 5.6,
            "count": 0
           },
           {
            "bin_start": 5.6,
            "bin_end": 5.7,
            "count": 0
           },
           {
            "bin_start": 5.7,
            "bin_end": 5.8,
            "count": 0
           },
           {
            "bin_start": 5.8,
            "bin_end": 5.9,
            "count": 0
           },
           {
            "bin_start": 5.9,
            "bin_end": 6,
            "count": 0
           },
           {
            "bin_start": 6,
            "bin_end": 6.1,
            "count": 5
           },
           {
            "bin_start": 6.1,
            "bin_end": 6.2,
            "count": 0
           },
           {
            "bin_start": 6.2,
            "bin_end": 6.3,
            "count": 0
           },
           {
            "bin_start": 6.3,
            "bin_end": 6.4,
            "count": 0
           },
           {
            "bin_start": 6.4,
            "bin_end": 6.5,
            "count": 0
           }
          ]
         }
        },
        {
         "name": "type_red",
         "dtype": "uint8",
         "stats": {
          "unique_count": 1,
          "nan_count": 0,
          "min": "0",
          "max": "0",
          "histogram": [
           {
            "bin_start": -0.5,
            "bin_end": -0.4,
            "count": 0
           },
           {
            "bin_start": -0.4,
            "bin_end": -0.3,
            "count": 0
           },
           {
            "bin_start": -0.3,
            "bin_end": -0.19999999999999996,
            "count": 0
           },
           {
            "bin_start": -0.19999999999999996,
            "bin_end": -0.09999999999999998,
            "count": 0
           },
           {
            "bin_start": -0.09999999999999998,
            "bin_end": 0,
            "count": 0
           },
           {
            "bin_start": 0,
            "bin_end": 0.10000000000000009,
            "count": 5
           },
           {
            "bin_start": 0.10000000000000009,
            "bin_end": 0.20000000000000007,
            "count": 0
           },
           {
            "bin_start": 0.20000000000000007,
            "bin_end": 0.30000000000000004,
            "count": 0
           },
           {
            "bin_start": 0.30000000000000004,
            "bin_end": 0.4,
            "count": 0
           },
           {
            "bin_start": 0.4,
            "bin_end": 0.5,
            "count": 0
           }
          ]
         }
        },
        {
         "name": "type_white",
         "dtype": "uint8",
         "stats": {
          "unique_count": 1,
          "nan_count": 0,
          "min": "1",
          "max": "1",
          "histogram": [
           {
            "bin_start": 0.5,
            "bin_end": 0.6,
            "count": 0
           },
           {
            "bin_start": 0.6,
            "bin_end": 0.7,
            "count": 0
           },
           {
            "bin_start": 0.7,
            "bin_end": 0.8,
            "count": 0
           },
           {
            "bin_start": 0.8,
            "bin_end": 0.9,
            "count": 0
           },
           {
            "bin_start": 0.9,
            "bin_end": 1,
            "count": 0
           },
           {
            "bin_start": 1,
            "bin_end": 1.1,
            "count": 5
           },
           {
            "bin_start": 1.1,
            "bin_end": 1.2000000000000002,
            "count": 0
           },
           {
            "bin_start": 1.2000000000000002,
            "bin_end": 1.3,
            "count": 0
           },
           {
            "bin_start": 1.3,
            "bin_end": 1.4,
            "count": 0
           },
           {
            "bin_start": 1.4,
            "bin_end": 1.5,
            "count": 0
           }
          ]
         }
        },
        {
         "name": "_deepnote_index_column",
         "dtype": "int64"
        }
       ],
       "rows": [
        {
         "fixed acidity": 7,
         "volatile acidity": 0.27,
         "citric acid": 0.36,
         "residual sugar": 20.7,
         "chlorides": 0.045,
         "free sulfur dioxide": 45,
         "total sulfur dioxide": 170,
         "density": 1.001,
         "pH": 3,
         "sulphates": 0.45,
         "alcohol": 8.8,
         "quality": 6,
         "type_red": 0,
         "type_white": 1,
         "_deepnote_index_column": 0
        },
        {
         "fixed acidity": 6.3,
         "volatile acidity": 0.3,
         "citric acid": 0.34,
         "residual sugar": 1.6,
         "chlorides": 0.049,
         "free sulfur dioxide": 14,
         "total sulfur dioxide": 132,
         "density": 0.994,
         "pH": 3.3,
         "sulphates": 0.49,
         "alcohol": 9.5,
         "quality": 6,
         "type_red": 0,
         "type_white": 1,
         "_deepnote_index_column": 1
        },
        {
         "fixed acidity": 8.1,
         "volatile acidity": 0.28,
         "citric acid": 0.4,
         "residual sugar": 6.9,
         "chlorides": 0.05,
         "free sulfur dioxide": 30,
         "total sulfur dioxide": 97,
         "density": 0.9951,
         "pH": 3.26,
         "sulphates": 0.44,
         "alcohol": 10.1,
         "quality": 6,
         "type_red": 0,
         "type_white": 1,
         "_deepnote_index_column": 2
        },
        {
         "fixed acidity": 7.2,
         "volatile acidity": 0.23,
         "citric acid": 0.32,
         "residual sugar": 8.5,
         "chlorides": 0.058,
         "free sulfur dioxide": 47,
         "total sulfur dioxide": 186,
         "density": 0.9956,
         "pH": 3.19,
         "sulphates": 0.4,
         "alcohol": 9.9,
         "quality": 6,
         "type_red": 0,
         "type_white": 1,
         "_deepnote_index_column": 3
        },
        {
         "fixed acidity": 7.2,
         "volatile acidity": 0.23,
         "citric acid": 0.32,
         "residual sugar": 8.5,
         "chlorides": 0.058,
         "free sulfur dioxide": 47,
         "total sulfur dioxide": 186,
         "density": 0.9956,
         "pH": 3.19,
         "sulphates": 0.4,
         "alcohol": 9.9,
         "quality": 6,
         "type_red": 0,
         "type_white": 1,
         "_deepnote_index_column": 4
        }
       ]
      },
      "text/plain": "   fixed acidity  volatile acidity  citric acid  residual sugar  chlorides  \\\n0            7.0              0.27         0.36            20.7      0.045   \n1            6.3              0.30         0.34             1.6      0.049   \n2            8.1              0.28         0.40             6.9      0.050   \n3            7.2              0.23         0.32             8.5      0.058   \n4            7.2              0.23         0.32             8.5      0.058   \n\n   free sulfur dioxide  total sulfur dioxide  density    pH  sulphates  \\\n0                 45.0                 170.0   1.0010  3.00       0.45   \n1                 14.0                 132.0   0.9940  3.30       0.49   \n2                 30.0                  97.0   0.9951  3.26       0.44   \n3                 47.0                 186.0   0.9956  3.19       0.40   \n4                 47.0                 186.0   0.9956  3.19       0.40   \n\n   alcohol  quality  type_red  type_white  \n0      8.8        6         0           1  \n1      9.5        6         0           1  \n2     10.1        6         0           1  \n3      9.9        6         0           1  \n4      9.9        6         0           1  ",
      "text/html": "<div>\n<style scoped>\n    .dataframe tbody tr th:only-of-type {\n        vertical-align: middle;\n    }\n\n    .dataframe tbody tr th {\n        vertical-align: top;\n    }\n\n    .dataframe thead th {\n        text-align: right;\n    }\n</style>\n<table border=\"1\" class=\"dataframe\">\n  <thead>\n    <tr style=\"text-align: right;\">\n      <th></th>\n      <th>fixed acidity</th>\n      <th>volatile acidity</th>\n      <th>citric acid</th>\n      <th>residual sugar</th>\n      <th>chlorides</th>\n      <th>free sulfur dioxide</th>\n      <th>total sulfur dioxide</th>\n      <th>density</th>\n      <th>pH</th>\n      <th>sulphates</th>\n      <th>alcohol</th>\n      <th>quality</th>\n      <th>type_red</th>\n      <th>type_white</th>\n    </tr>\n  </thead>\n  <tbody>\n    <tr>\n      <th>0</th>\n      <td>7.0</td>\n      <td>0.27</td>\n      <td>0.36</td>\n      <td>20.7</td>\n      <td>0.045</td>\n      <td>45.0</td>\n      <td>170.0</td>\n      <td>1.0010</td>\n      <td>3.00</td>\n      <td>0.45</td>\n      <td>8.8</td>\n      <td>6</td>\n      <td>0</td>\n      <td>1</td>\n    </tr>\n    <tr>\n      <th>1</th>\n      <td>6.3</td>\n      <td>0.30</td>\n      <td>0.34</td>\n      <td>1.6</td>\n      <td>0.049</td>\n      <td>14.0</td>\n      <td>132.0</td>\n      <td>0.9940</td>\n      <td>3.30</td>\n      <td>0.49</td>\n      <td>9.5</td>\n      <td>6</td>\n      <td>0</td>\n      <td>1</td>\n    </tr>\n    <tr>\n      <th>2</th>\n      <td>8.1</td>\n      <td>0.28</td>\n      <td>0.40</td>\n      <td>6.9</td>\n      <td>0.050</td>\n      <td>30.0</td>\n      <td>97.0</td>\n      <td>0.9951</td>\n      <td>3.26</td>\n      <td>0.44</td>\n      <td>10.1</td>\n      <td>6</td>\n      <td>0</td>\n      <td>1</td>\n    </tr>\n    <tr>\n      <th>3</th>\n      <td>7.2</td>\n      <td>0.23</td>\n      <td>0.32</td>\n      <td>8.5</td>\n      <td>0.058</td>\n      <td>47.0</td>\n      <td>186.0</td>\n      <td>0.9956</td>\n      <td>3.19</td>\n      <td>0.40</td>\n      <td>9.9</td>\n      <td>6</td>\n      <td>0</td>\n      <td>1</td>\n    </tr>\n    <tr>\n      <th>4</th>\n      <td>7.2</td>\n      <td>0.23</td>\n      <td>0.32</td>\n      <td>8.5</td>\n      <td>0.058</td>\n      <td>47.0</td>\n      <td>186.0</td>\n      <td>0.9956</td>\n      <td>3.19</td>\n      <td>0.40</td>\n      <td>9.9</td>\n      <td>6</td>\n      <td>0</td>\n      <td>1</td>\n    </tr>\n  </tbody>\n</table>\n</div>"
     },
     "metadata": {}
    }
   ]
  },
  {
   "cell_type": "markdown",
   "source": "## Data overview",
   "metadata": {
    "cell_id": "00003-95e34f6b-a417-4478-9915-6473aebd02b6",
    "deepnote_cell_type": "markdown"
   }
  },
  {
   "cell_type": "code",
   "metadata": {
    "cell_id": "00004-a6aafeae-1ef8-4bef-8ac5-8135e26e9ade",
    "deepnote_output_heights": [
     21.1875
    ],
    "deepnote_to_be_reexecuted": false,
    "execution_millis": 8,
    "execution_start": 1644443318219,
    "source_hash": "39ed69f",
    "deepnote_cell_type": "code"
   },
   "source": "raw_data.shape\n",
   "execution_count": null,
   "outputs": [
    {
     "output_type": "execute_result",
     "execution_count": 3,
     "data": {
      "text/plain": "(6497, 14)"
     },
     "metadata": {}
    }
   ]
  },
  {
   "cell_type": "code",
   "metadata": {
    "cell_id": "00005-4e996241-0a32-4a44-bf92-3df302b63a91",
    "deepnote_output_heights": [
     289.8125
    ],
    "deepnote_to_be_reexecuted": false,
    "execution_millis": 3,
    "execution_start": 1644443318273,
    "source_hash": "bb0d0b35",
    "deepnote_cell_type": "code"
   },
   "source": "raw_data.dtypes\n",
   "execution_count": null,
   "outputs": [
    {
     "output_type": "execute_result",
     "execution_count": 4,
     "data": {
      "text/plain": "fixed acidity           float64\nvolatile acidity        float64\ncitric acid             float64\nresidual sugar          float64\nchlorides               float64\nfree sulfur dioxide     float64\ntotal sulfur dioxide    float64\ndensity                 float64\npH                      float64\nsulphates               float64\nalcohol                 float64\nquality                   int64\ntype_red                  uint8\ntype_white                uint8\ndtype: object"
     },
     "metadata": {}
    }
   ]
  },
  {
   "cell_type": "code",
   "metadata": {
    "cell_id": "00006-95d132de-5ac5-4d86-b96c-8b62a7b5fc09",
    "deepnote_output_heights": [
     1
    ],
    "deepnote_to_be_reexecuted": false,
    "execution_millis": 115,
    "execution_start": 1644443318274,
    "source_hash": "b03045e6",
    "deepnote_cell_type": "code"
   },
   "source": "raw_data.head()\n",
   "execution_count": null,
   "outputs": [
    {
     "output_type": "execute_result",
     "execution_count": 5,
     "data": {
      "application/vnd.deepnote.dataframe.v3+json": {
       "column_count": 14,
       "row_count": 5,
       "columns": [
        {
         "name": "fixed acidity",
         "dtype": "float64",
         "stats": {
          "unique_count": 4,
          "nan_count": 0,
          "min": "6.3",
          "max": "8.1",
          "histogram": [
           {
            "bin_start": 6.3,
            "bin_end": 6.4799999999999995,
            "count": 1
           },
           {
            "bin_start": 6.4799999999999995,
            "bin_end": 6.66,
            "count": 0
           },
           {
            "bin_start": 6.66,
            "bin_end": 6.84,
            "count": 0
           },
           {
            "bin_start": 6.84,
            "bin_end": 7.02,
            "count": 1
           },
           {
            "bin_start": 7.02,
            "bin_end": 7.199999999999999,
            "count": 0
           },
           {
            "bin_start": 7.199999999999999,
            "bin_end": 7.38,
            "count": 2
           },
           {
            "bin_start": 7.38,
            "bin_end": 7.56,
            "count": 0
           },
           {
            "bin_start": 7.56,
            "bin_end": 7.74,
            "count": 0
           },
           {
            "bin_start": 7.74,
            "bin_end": 7.92,
            "count": 0
           },
           {
            "bin_start": 7.92,
            "bin_end": 8.1,
            "count": 1
           }
          ]
         }
        },
        {
         "name": "volatile acidity",
         "dtype": "float64",
         "stats": {
          "unique_count": 4,
          "nan_count": 0,
          "min": "0.23",
          "max": "0.3",
          "histogram": [
           {
            "bin_start": 0.23,
            "bin_end": 0.23700000000000002,
            "count": 2
           },
           {
            "bin_start": 0.23700000000000002,
            "bin_end": 0.244,
            "count": 0
           },
           {
            "bin_start": 0.244,
            "bin_end": 0.251,
            "count": 0
           },
           {
            "bin_start": 0.251,
            "bin_end": 0.258,
            "count": 0
           },
           {
            "bin_start": 0.258,
            "bin_end": 0.265,
            "count": 0
           },
           {
            "bin_start": 0.265,
            "bin_end": 0.272,
            "count": 1
           },
           {
            "bin_start": 0.272,
            "bin_end": 0.27899999999999997,
            "count": 0
           },
           {
            "bin_start": 0.27899999999999997,
            "bin_end": 0.286,
            "count": 1
           },
           {
            "bin_start": 0.286,
            "bin_end": 0.293,
            "count": 0
           },
           {
            "bin_start": 0.293,
            "bin_end": 0.3,
            "count": 1
           }
          ]
         }
        },
        {
         "name": "citric acid",
         "dtype": "float64",
         "stats": {
          "unique_count": 4,
          "nan_count": 0,
          "min": "0.32",
          "max": "0.4",
          "histogram": [
           {
            "bin_start": 0.32,
            "bin_end": 0.328,
            "count": 2
           },
           {
            "bin_start": 0.328,
            "bin_end": 0.336,
            "count": 0
           },
           {
            "bin_start": 0.336,
            "bin_end": 0.34400000000000003,
            "count": 1
           },
           {
            "bin_start": 0.34400000000000003,
            "bin_end": 0.35200000000000004,
            "count": 0
           },
           {
            "bin_start": 0.35200000000000004,
            "bin_end": 0.36,
            "count": 0
           },
           {
            "bin_start": 0.36,
            "bin_end": 0.368,
            "count": 1
           },
           {
            "bin_start": 0.368,
            "bin_end": 0.376,
            "count": 0
           },
           {
            "bin_start": 0.376,
            "bin_end": 0.384,
            "count": 0
           },
           {
            "bin_start": 0.384,
            "bin_end": 0.392,
            "count": 0
           },
           {
            "bin_start": 0.392,
            "bin_end": 0.4,
            "count": 1
           }
          ]
         }
        },
        {
         "name": "residual sugar",
         "dtype": "float64",
         "stats": {
          "unique_count": 4,
          "nan_count": 0,
          "min": "1.6",
          "max": "20.7",
          "histogram": [
           {
            "bin_start": 1.6,
            "bin_end": 3.51,
            "count": 1
           },
           {
            "bin_start": 3.51,
            "bin_end": 5.42,
            "count": 0
           },
           {
            "bin_start": 5.42,
            "bin_end": 7.329999999999998,
            "count": 1
           },
           {
            "bin_start": 7.329999999999998,
            "bin_end": 9.239999999999998,
            "count": 2
           },
           {
            "bin_start": 9.239999999999998,
            "bin_end": 11.149999999999999,
            "count": 0
           },
           {
            "bin_start": 11.149999999999999,
            "bin_end": 13.059999999999997,
            "count": 0
           },
           {
            "bin_start": 13.059999999999997,
            "bin_end": 14.969999999999997,
            "count": 0
           },
           {
            "bin_start": 14.969999999999997,
            "bin_end": 16.88,
            "count": 0
           },
           {
            "bin_start": 16.88,
            "bin_end": 18.79,
            "count": 0
           },
           {
            "bin_start": 18.79,
            "bin_end": 20.7,
            "count": 1
           }
          ]
         }
        },
        {
         "name": "chlorides",
         "dtype": "float64",
         "stats": {
          "unique_count": 4,
          "nan_count": 0,
          "min": "0.045",
          "max": "0.058",
          "histogram": [
           {
            "bin_start": 0.045,
            "bin_end": 0.0463,
            "count": 1
           },
           {
            "bin_start": 0.0463,
            "bin_end": 0.047599999999999996,
            "count": 0
           },
           {
            "bin_start": 0.047599999999999996,
            "bin_end": 0.0489,
            "count": 0
           },
           {
            "bin_start": 0.0489,
            "bin_end": 0.0502,
            "count": 2
           },
           {
            "bin_start": 0.0502,
            "bin_end": 0.051500000000000004,
            "count": 0
           },
           {
            "bin_start": 0.051500000000000004,
            "bin_end": 0.0528,
            "count": 0
           },
           {
            "bin_start": 0.0528,
            "bin_end": 0.0541,
            "count": 0
           },
           {
            "bin_start": 0.0541,
            "bin_end": 0.055400000000000005,
            "count": 0
           },
           {
            "bin_start": 0.055400000000000005,
            "bin_end": 0.0567,
            "count": 0
           },
           {
            "bin_start": 0.0567,
            "bin_end": 0.058,
            "count": 2
           }
          ]
         }
        },
        {
         "name": "free sulfur dioxide",
         "dtype": "float64",
         "stats": {
          "unique_count": 4,
          "nan_count": 0,
          "min": "14.0",
          "max": "47.0",
          "histogram": [
           {
            "bin_start": 14,
            "bin_end": 17.3,
            "count": 1
           },
           {
            "bin_start": 17.3,
            "bin_end": 20.6,
            "count": 0
           },
           {
            "bin_start": 20.6,
            "bin_end": 23.9,
            "count": 0
           },
           {
            "bin_start": 23.9,
            "bin_end": 27.2,
            "count": 0
           },
           {
            "bin_start": 27.2,
            "bin_end": 30.5,
            "count": 1
           },
           {
            "bin_start": 30.5,
            "bin_end": 33.8,
            "count": 0
           },
           {
            "bin_start": 33.8,
            "bin_end": 37.099999999999994,
            "count": 0
           },
           {
            "bin_start": 37.099999999999994,
            "bin_end": 40.4,
            "count": 0
           },
           {
            "bin_start": 40.4,
            "bin_end": 43.7,
            "count": 0
           },
           {
            "bin_start": 43.7,
            "bin_end": 47,
            "count": 3
           }
          ]
         }
        },
        {
         "name": "total sulfur dioxide",
         "dtype": "float64",
         "stats": {
          "unique_count": 4,
          "nan_count": 0,
          "min": "97.0",
          "max": "186.0",
          "histogram": [
           {
            "bin_start": 97,
            "bin_end": 105.9,
            "count": 1
           },
           {
            "bin_start": 105.9,
            "bin_end": 114.8,
            "count": 0
           },
           {
            "bin_start": 114.8,
            "bin_end": 123.7,
            "count": 0
           },
           {
            "bin_start": 123.7,
            "bin_end": 132.6,
            "count": 1
           },
           {
            "bin_start": 132.6,
            "bin_end": 141.5,
            "count": 0
           },
           {
            "bin_start": 141.5,
            "bin_end": 150.4,
            "count": 0
           },
           {
            "bin_start": 150.4,
            "bin_end": 159.3,
            "count": 0
           },
           {
            "bin_start": 159.3,
            "bin_end": 168.2,
            "count": 0
           },
           {
            "bin_start": 168.2,
            "bin_end": 177.10000000000002,
            "count": 1
           },
           {
            "bin_start": 177.10000000000002,
            "bin_end": 186,
            "count": 2
           }
          ]
         }
        },
        {
         "name": "density",
         "dtype": "float64",
         "stats": {
          "unique_count": 4,
          "nan_count": 0,
          "min": "0.994",
          "max": "1.001",
          "histogram": [
           {
            "bin_start": 0.994,
            "bin_end": 0.9947,
            "count": 1
           },
           {
            "bin_start": 0.9947,
            "bin_end": 0.9954,
            "count": 1
           },
           {
            "bin_start": 0.9954,
            "bin_end": 0.9961,
            "count": 2
           },
           {
            "bin_start": 0.9961,
            "bin_end": 0.9967999999999999,
            "count": 0
           },
           {
            "bin_start": 0.9967999999999999,
            "bin_end": 0.9974999999999999,
            "count": 0
           },
           {
            "bin_start": 0.9974999999999999,
            "bin_end": 0.9982,
            "count": 0
           },
           {
            "bin_start": 0.9982,
            "bin_end": 0.9988999999999999,
            "count": 0
           },
           {
            "bin_start": 0.9988999999999999,
            "bin_end": 0.9995999999999999,
            "count": 0
           },
           {
            "bin_start": 0.9995999999999999,
            "bin_end": 1.0003,
            "count": 0
           },
           {
            "bin_start": 1.0003,
            "bin_end": 1.001,
            "count": 1
           }
          ]
         }
        },
        {
         "name": "pH",
         "dtype": "float64",
         "stats": {
          "unique_count": 4,
          "nan_count": 0,
          "min": "3.0",
          "max": "3.3",
          "histogram": [
           {
            "bin_start": 3,
            "bin_end": 3.03,
            "count": 1
           },
           {
            "bin_start": 3.03,
            "bin_end": 3.06,
            "count": 0
           },
           {
            "bin_start": 3.06,
            "bin_end": 3.09,
            "count": 0
           },
           {
            "bin_start": 3.09,
            "bin_end": 3.12,
            "count": 0
           },
           {
            "bin_start": 3.12,
            "bin_end": 3.15,
            "count": 0
           },
           {
            "bin_start": 3.15,
            "bin_end": 3.1799999999999997,
            "count": 0
           },
           {
            "bin_start": 3.1799999999999997,
            "bin_end": 3.21,
            "count": 2
           },
           {
            "bin_start": 3.21,
            "bin_end": 3.2399999999999998,
            "count": 0
           },
           {
            "bin_start": 3.2399999999999998,
            "bin_end": 3.27,
            "count": 1
           },
           {
            "bin_start": 3.27,
            "bin_end": 3.3,
            "count": 1
           }
          ]
         }
        },
        {
         "name": "sulphates",
         "dtype": "float64",
         "stats": {
          "unique_count": 4,
          "nan_count": 0,
          "min": "0.4",
          "max": "0.49",
          "histogram": [
           {
            "bin_start": 0.4,
            "bin_end": 0.40900000000000003,
            "count": 2
           },
           {
            "bin_start": 0.40900000000000003,
            "bin_end": 0.41800000000000004,
            "count": 0
           },
           {
            "bin_start": 0.41800000000000004,
            "bin_end": 0.427,
            "count": 0
           },
           {
            "bin_start": 0.427,
            "bin_end": 0.436,
            "count": 0
           },
           {
            "bin_start": 0.436,
            "bin_end": 0.445,
            "count": 1
           },
           {
            "bin_start": 0.445,
            "bin_end": 0.454,
            "count": 1
           },
           {
            "bin_start": 0.454,
            "bin_end": 0.463,
            "count": 0
           },
           {
            "bin_start": 0.463,
            "bin_end": 0.472,
            "count": 0
           },
           {
            "bin_start": 0.472,
            "bin_end": 0.481,
            "count": 0
           },
           {
            "bin_start": 0.481,
            "bin_end": 0.49,
            "count": 1
           }
          ]
         }
        },
        {
         "name": "alcohol",
         "dtype": "float64",
         "stats": {
          "unique_count": 4,
          "nan_count": 0,
          "min": "8.8",
          "max": "10.1",
          "histogram": [
           {
            "bin_start": 8.8,
            "bin_end": 8.93,
            "count": 1
           },
           {
            "bin_start": 8.93,
            "bin_end": 9.06,
            "count": 0
           },
           {
            "bin_start": 9.06,
            "bin_end": 9.190000000000001,
            "count": 0
           },
           {
            "bin_start": 9.190000000000001,
            "bin_end": 9.32,
            "count": 0
           },
           {
            "bin_start": 9.32,
            "bin_end": 9.45,
            "count": 0
           },
           {
            "bin_start": 9.45,
            "bin_end": 9.58,
            "count": 1
           },
           {
            "bin_start": 9.58,
            "bin_end": 9.71,
            "count": 0
           },
           {
            "bin_start": 9.71,
            "bin_end": 9.84,
            "count": 0
           },
           {
            "bin_start": 9.84,
            "bin_end": 9.969999999999999,
            "count": 2
           },
           {
            "bin_start": 9.969999999999999,
            "bin_end": 10.1,
            "count": 1
           }
          ]
         }
        },
        {
         "name": "quality",
         "dtype": "int64",
         "stats": {
          "unique_count": 1,
          "nan_count": 0,
          "min": "6",
          "max": "6",
          "histogram": [
           {
            "bin_start": 5.5,
            "bin_end": 5.6,
            "count": 0
           },
           {
            "bin_start": 5.6,
            "bin_end": 5.7,
            "count": 0
           },
           {
            "bin_start": 5.7,
            "bin_end": 5.8,
            "count": 0
           },
           {
            "bin_start": 5.8,
            "bin_end": 5.9,
            "count": 0
           },
           {
            "bin_start": 5.9,
            "bin_end": 6,
            "count": 0
           },
           {
            "bin_start": 6,
            "bin_end": 6.1,
            "count": 5
           },
           {
            "bin_start": 6.1,
            "bin_end": 6.2,
            "count": 0
           },
           {
            "bin_start": 6.2,
            "bin_end": 6.3,
            "count": 0
           },
           {
            "bin_start": 6.3,
            "bin_end": 6.4,
            "count": 0
           },
           {
            "bin_start": 6.4,
            "bin_end": 6.5,
            "count": 0
           }
          ]
         }
        },
        {
         "name": "type_red",
         "dtype": "uint8",
         "stats": {
          "unique_count": 1,
          "nan_count": 0,
          "min": "0",
          "max": "0",
          "histogram": [
           {
            "bin_start": -0.5,
            "bin_end": -0.4,
            "count": 0
           },
           {
            "bin_start": -0.4,
            "bin_end": -0.3,
            "count": 0
           },
           {
            "bin_start": -0.3,
            "bin_end": -0.19999999999999996,
            "count": 0
           },
           {
            "bin_start": -0.19999999999999996,
            "bin_end": -0.09999999999999998,
            "count": 0
           },
           {
            "bin_start": -0.09999999999999998,
            "bin_end": 0,
            "count": 0
           },
           {
            "bin_start": 0,
            "bin_end": 0.10000000000000009,
            "count": 5
           },
           {
            "bin_start": 0.10000000000000009,
            "bin_end": 0.20000000000000007,
            "count": 0
           },
           {
            "bin_start": 0.20000000000000007,
            "bin_end": 0.30000000000000004,
            "count": 0
           },
           {
            "bin_start": 0.30000000000000004,
            "bin_end": 0.4,
            "count": 0
           },
           {
            "bin_start": 0.4,
            "bin_end": 0.5,
            "count": 0
           }
          ]
         }
        },
        {
         "name": "type_white",
         "dtype": "uint8",
         "stats": {
          "unique_count": 1,
          "nan_count": 0,
          "min": "1",
          "max": "1",
          "histogram": [
           {
            "bin_start": 0.5,
            "bin_end": 0.6,
            "count": 0
           },
           {
            "bin_start": 0.6,
            "bin_end": 0.7,
            "count": 0
           },
           {
            "bin_start": 0.7,
            "bin_end": 0.8,
            "count": 0
           },
           {
            "bin_start": 0.8,
            "bin_end": 0.9,
            "count": 0
           },
           {
            "bin_start": 0.9,
            "bin_end": 1,
            "count": 0
           },
           {
            "bin_start": 1,
            "bin_end": 1.1,
            "count": 5
           },
           {
            "bin_start": 1.1,
            "bin_end": 1.2000000000000002,
            "count": 0
           },
           {
            "bin_start": 1.2000000000000002,
            "bin_end": 1.3,
            "count": 0
           },
           {
            "bin_start": 1.3,
            "bin_end": 1.4,
            "count": 0
           },
           {
            "bin_start": 1.4,
            "bin_end": 1.5,
            "count": 0
           }
          ]
         }
        },
        {
         "name": "_deepnote_index_column",
         "dtype": "int64"
        }
       ],
       "rows": [
        {
         "fixed acidity": 7,
         "volatile acidity": 0.27,
         "citric acid": 0.36,
         "residual sugar": 20.7,
         "chlorides": 0.045,
         "free sulfur dioxide": 45,
         "total sulfur dioxide": 170,
         "density": 1.001,
         "pH": 3,
         "sulphates": 0.45,
         "alcohol": 8.8,
         "quality": 6,
         "type_red": 0,
         "type_white": 1,
         "_deepnote_index_column": 0
        },
        {
         "fixed acidity": 6.3,
         "volatile acidity": 0.3,
         "citric acid": 0.34,
         "residual sugar": 1.6,
         "chlorides": 0.049,
         "free sulfur dioxide": 14,
         "total sulfur dioxide": 132,
         "density": 0.994,
         "pH": 3.3,
         "sulphates": 0.49,
         "alcohol": 9.5,
         "quality": 6,
         "type_red": 0,
         "type_white": 1,
         "_deepnote_index_column": 1
        },
        {
         "fixed acidity": 8.1,
         "volatile acidity": 0.28,
         "citric acid": 0.4,
         "residual sugar": 6.9,
         "chlorides": 0.05,
         "free sulfur dioxide": 30,
         "total sulfur dioxide": 97,
         "density": 0.9951,
         "pH": 3.26,
         "sulphates": 0.44,
         "alcohol": 10.1,
         "quality": 6,
         "type_red": 0,
         "type_white": 1,
         "_deepnote_index_column": 2
        },
        {
         "fixed acidity": 7.2,
         "volatile acidity": 0.23,
         "citric acid": 0.32,
         "residual sugar": 8.5,
         "chlorides": 0.058,
         "free sulfur dioxide": 47,
         "total sulfur dioxide": 186,
         "density": 0.9956,
         "pH": 3.19,
         "sulphates": 0.4,
         "alcohol": 9.9,
         "quality": 6,
         "type_red": 0,
         "type_white": 1,
         "_deepnote_index_column": 3
        },
        {
         "fixed acidity": 7.2,
         "volatile acidity": 0.23,
         "citric acid": 0.32,
         "residual sugar": 8.5,
         "chlorides": 0.058,
         "free sulfur dioxide": 47,
         "total sulfur dioxide": 186,
         "density": 0.9956,
         "pH": 3.19,
         "sulphates": 0.4,
         "alcohol": 9.9,
         "quality": 6,
         "type_red": 0,
         "type_white": 1,
         "_deepnote_index_column": 4
        }
       ]
      },
      "text/plain": "   fixed acidity  volatile acidity  citric acid  residual sugar  chlorides  \\\n0            7.0              0.27         0.36            20.7      0.045   \n1            6.3              0.30         0.34             1.6      0.049   \n2            8.1              0.28         0.40             6.9      0.050   \n3            7.2              0.23         0.32             8.5      0.058   \n4            7.2              0.23         0.32             8.5      0.058   \n\n   free sulfur dioxide  total sulfur dioxide  density    pH  sulphates  \\\n0                 45.0                 170.0   1.0010  3.00       0.45   \n1                 14.0                 132.0   0.9940  3.30       0.49   \n2                 30.0                  97.0   0.9951  3.26       0.44   \n3                 47.0                 186.0   0.9956  3.19       0.40   \n4                 47.0                 186.0   0.9956  3.19       0.40   \n\n   alcohol  quality  type_red  type_white  \n0      8.8        6         0           1  \n1      9.5        6         0           1  \n2     10.1        6         0           1  \n3      9.9        6         0           1  \n4      9.9        6         0           1  ",
      "text/html": "<div>\n<style scoped>\n    .dataframe tbody tr th:only-of-type {\n        vertical-align: middle;\n    }\n\n    .dataframe tbody tr th {\n        vertical-align: top;\n    }\n\n    .dataframe thead th {\n        text-align: right;\n    }\n</style>\n<table border=\"1\" class=\"dataframe\">\n  <thead>\n    <tr style=\"text-align: right;\">\n      <th></th>\n      <th>fixed acidity</th>\n      <th>volatile acidity</th>\n      <th>citric acid</th>\n      <th>residual sugar</th>\n      <th>chlorides</th>\n      <th>free sulfur dioxide</th>\n      <th>total sulfur dioxide</th>\n      <th>density</th>\n      <th>pH</th>\n      <th>sulphates</th>\n      <th>alcohol</th>\n      <th>quality</th>\n      <th>type_red</th>\n      <th>type_white</th>\n    </tr>\n  </thead>\n  <tbody>\n    <tr>\n      <th>0</th>\n      <td>7.0</td>\n      <td>0.27</td>\n      <td>0.36</td>\n      <td>20.7</td>\n      <td>0.045</td>\n      <td>45.0</td>\n      <td>170.0</td>\n      <td>1.0010</td>\n      <td>3.00</td>\n      <td>0.45</td>\n      <td>8.8</td>\n      <td>6</td>\n      <td>0</td>\n      <td>1</td>\n    </tr>\n    <tr>\n      <th>1</th>\n      <td>6.3</td>\n      <td>0.30</td>\n      <td>0.34</td>\n      <td>1.6</td>\n      <td>0.049</td>\n      <td>14.0</td>\n      <td>132.0</td>\n      <td>0.9940</td>\n      <td>3.30</td>\n      <td>0.49</td>\n      <td>9.5</td>\n      <td>6</td>\n      <td>0</td>\n      <td>1</td>\n    </tr>\n    <tr>\n      <th>2</th>\n      <td>8.1</td>\n      <td>0.28</td>\n      <td>0.40</td>\n      <td>6.9</td>\n      <td>0.050</td>\n      <td>30.0</td>\n      <td>97.0</td>\n      <td>0.9951</td>\n      <td>3.26</td>\n      <td>0.44</td>\n      <td>10.1</td>\n      <td>6</td>\n      <td>0</td>\n      <td>1</td>\n    </tr>\n    <tr>\n      <th>3</th>\n      <td>7.2</td>\n      <td>0.23</td>\n      <td>0.32</td>\n      <td>8.5</td>\n      <td>0.058</td>\n      <td>47.0</td>\n      <td>186.0</td>\n      <td>0.9956</td>\n      <td>3.19</td>\n      <td>0.40</td>\n      <td>9.9</td>\n      <td>6</td>\n      <td>0</td>\n      <td>1</td>\n    </tr>\n    <tr>\n      <th>4</th>\n      <td>7.2</td>\n      <td>0.23</td>\n      <td>0.32</td>\n      <td>8.5</td>\n      <td>0.058</td>\n      <td>47.0</td>\n      <td>186.0</td>\n      <td>0.9956</td>\n      <td>3.19</td>\n      <td>0.40</td>\n      <td>9.9</td>\n      <td>6</td>\n      <td>0</td>\n      <td>1</td>\n    </tr>\n  </tbody>\n</table>\n</div>"
     },
     "metadata": {}
    }
   ]
  },
  {
   "cell_type": "markdown",
   "source": "## Data cleaning",
   "metadata": {
    "cell_id": "00007-34fb6abc-e75a-4282-9497-6111c4d595de",
    "deepnote_cell_type": "markdown"
   }
  },
  {
   "cell_type": "markdown",
   "source": "### Missing values",
   "metadata": {
    "cell_id": "00008-6d91b4d2-5f7b-4617-ae59-21c59875be46",
    "deepnote_cell_type": "markdown"
   }
  },
  {
   "cell_type": "code",
   "metadata": {
    "cell_id": "00009-7d405358-0e6b-4de1-80f7-b4eaad77b0f6",
    "deepnote_to_be_reexecuted": false,
    "execution_millis": 0,
    "execution_start": 1644443318439,
    "source_hash": "257f23f8",
    "deepnote_cell_type": "code"
   },
   "source": "def check_null_values(data: pd.DataFrame()) -> pd.DataFrame():\n    total = data.isnull().sum().sort_values(ascending=False)\n    percent = (data.isnull().sum() / data.isnull().count()).sort_values(ascending=False)\n    missing_data = pd.concat([total, percent * 100], axis=1, keys=[\"Total\", \"Percent\"])\n    return missing_data\n",
   "execution_count": null,
   "outputs": []
  },
  {
   "cell_type": "code",
   "metadata": {
    "cell_id": "00010-b3035a01-22cc-4e7b-8a4b-bd47f94b231f",
    "deepnote_output_heights": [
     1
    ],
    "deepnote_to_be_reexecuted": false,
    "execution_millis": 17,
    "execution_start": 1644443318440,
    "source_hash": "d326aa82",
    "deepnote_cell_type": "code"
   },
   "source": "check_null_values(raw_data)\n",
   "execution_count": null,
   "outputs": [
    {
     "output_type": "execute_result",
     "execution_count": 7,
     "data": {
      "application/vnd.deepnote.dataframe.v3+json": {
       "column_count": 2,
       "row_count": 14,
       "columns": [
        {
         "name": "Total",
         "dtype": "int64",
         "stats": {
          "unique_count": 7,
          "nan_count": 0,
          "min": "0",
          "max": "10",
          "histogram": [
           {
            "bin_start": 0,
            "bin_end": 1,
            "count": 7
           },
           {
            "bin_start": 1,
            "bin_end": 2,
            "count": 0
           },
           {
            "bin_start": 2,
            "bin_end": 3,
            "count": 2
           },
           {
            "bin_start": 3,
            "bin_end": 4,
            "count": 1
           },
           {
            "bin_start": 4,
            "bin_end": 5,
            "count": 1
           },
           {
            "bin_start": 5,
            "bin_end": 6,
            "count": 0
           },
           {
            "bin_start": 6,
            "bin_end": 7,
            "count": 0
           },
           {
            "bin_start": 7,
            "bin_end": 8,
            "count": 0
           },
           {
            "bin_start": 8,
            "bin_end": 9,
            "count": 1
           },
           {
            "bin_start": 9,
            "bin_end": 10,
            "count": 2
           }
          ]
         }
        },
        {
         "name": "Percent",
         "dtype": "float64",
         "stats": {
          "unique_count": 7,
          "nan_count": 0,
          "min": "0.0",
          "max": "0.15391719255040787",
          "histogram": [
           {
            "bin_start": 0,
            "bin_end": 0.015391719255040787,
            "count": 7
           },
           {
            "bin_start": 0.015391719255040787,
            "bin_end": 0.030783438510081574,
            "count": 0
           },
           {
            "bin_start": 0.030783438510081574,
            "bin_end": 0.04617515776512236,
            "count": 2
           },
           {
            "bin_start": 0.04617515776512236,
            "bin_end": 0.06156687702016315,
            "count": 1
           },
           {
            "bin_start": 0.06156687702016315,
            "bin_end": 0.07695859627520393,
            "count": 1
           },
           {
            "bin_start": 0.07695859627520393,
            "bin_end": 0.09235031553024473,
            "count": 0
           },
           {
            "bin_start": 0.09235031553024473,
            "bin_end": 0.1077420347852855,
            "count": 0
           },
           {
            "bin_start": 0.1077420347852855,
            "bin_end": 0.1231337540403263,
            "count": 0
           },
           {
            "bin_start": 0.1231337540403263,
            "bin_end": 0.13852547329536707,
            "count": 1
           },
           {
            "bin_start": 0.13852547329536707,
            "bin_end": 0.15391719255040787,
            "count": 2
           }
          ]
         }
        },
        {
         "name": "_deepnote_index_column",
         "dtype": "object"
        }
       ],
       "rows": [
        {
         "Total": 10,
         "Percent": 0.15391719255040787,
         "_deepnote_index_column": "fixed acidity"
        },
        {
         "Total": 9,
         "Percent": 0.1385254732953671,
         "_deepnote_index_column": "pH"
        },
        {
         "Total": 8,
         "Percent": 0.12313375404032631,
         "_deepnote_index_column": "volatile acidity"
        },
        {
         "Total": 4,
         "Percent": 0.061566877020163155,
         "_deepnote_index_column": "sulphates"
        },
        {
         "Total": 3,
         "Percent": 0.04617515776512237,
         "_deepnote_index_column": "citric acid"
        },
        {
         "Total": 2,
         "Percent": 0.030783438510081577,
         "_deepnote_index_column": "residual sugar"
        },
        {
         "Total": 2,
         "Percent": 0.030783438510081577,
         "_deepnote_index_column": "chlorides"
        },
        {
         "Total": 0,
         "Percent": 0,
         "_deepnote_index_column": "free sulfur dioxide"
        },
        {
         "Total": 0,
         "Percent": 0,
         "_deepnote_index_column": "total sulfur dioxide"
        },
        {
         "Total": 0,
         "Percent": 0,
         "_deepnote_index_column": "density"
        }
       ]
      },
      "text/plain": "                      Total   Percent\nfixed acidity            10  0.153917\npH                        9  0.138525\nvolatile acidity          8  0.123134\nsulphates                 4  0.061567\ncitric acid               3  0.046175\nresidual sugar            2  0.030783\nchlorides                 2  0.030783\nfree sulfur dioxide       0  0.000000\ntotal sulfur dioxide      0  0.000000\ndensity                   0  0.000000\nalcohol                   0  0.000000\nquality                   0  0.000000\ntype_red                  0  0.000000\ntype_white                0  0.000000",
      "text/html": "<div>\n<style scoped>\n    .dataframe tbody tr th:only-of-type {\n        vertical-align: middle;\n    }\n\n    .dataframe tbody tr th {\n        vertical-align: top;\n    }\n\n    .dataframe thead th {\n        text-align: right;\n    }\n</style>\n<table border=\"1\" class=\"dataframe\">\n  <thead>\n    <tr style=\"text-align: right;\">\n      <th></th>\n      <th>Total</th>\n      <th>Percent</th>\n    </tr>\n  </thead>\n  <tbody>\n    <tr>\n      <th>fixed acidity</th>\n      <td>10</td>\n      <td>0.153917</td>\n    </tr>\n    <tr>\n      <th>pH</th>\n      <td>9</td>\n      <td>0.138525</td>\n    </tr>\n    <tr>\n      <th>volatile acidity</th>\n      <td>8</td>\n      <td>0.123134</td>\n    </tr>\n    <tr>\n      <th>sulphates</th>\n      <td>4</td>\n      <td>0.061567</td>\n    </tr>\n    <tr>\n      <th>citric acid</th>\n      <td>3</td>\n      <td>0.046175</td>\n    </tr>\n    <tr>\n      <th>residual sugar</th>\n      <td>2</td>\n      <td>0.030783</td>\n    </tr>\n    <tr>\n      <th>chlorides</th>\n      <td>2</td>\n      <td>0.030783</td>\n    </tr>\n    <tr>\n      <th>free sulfur dioxide</th>\n      <td>0</td>\n      <td>0.000000</td>\n    </tr>\n    <tr>\n      <th>total sulfur dioxide</th>\n      <td>0</td>\n      <td>0.000000</td>\n    </tr>\n    <tr>\n      <th>density</th>\n      <td>0</td>\n      <td>0.000000</td>\n    </tr>\n    <tr>\n      <th>alcohol</th>\n      <td>0</td>\n      <td>0.000000</td>\n    </tr>\n    <tr>\n      <th>quality</th>\n      <td>0</td>\n      <td>0.000000</td>\n    </tr>\n    <tr>\n      <th>type_red</th>\n      <td>0</td>\n      <td>0.000000</td>\n    </tr>\n    <tr>\n      <th>type_white</th>\n      <td>0</td>\n      <td>0.000000</td>\n    </tr>\n  </tbody>\n</table>\n</div>"
     },
     "metadata": {}
    }
   ]
  },
  {
   "cell_type": "markdown",
   "source": "### Impute missing values",
   "metadata": {
    "cell_id": "00011-82872063-226c-47c7-ba37-748b9142c954",
    "deepnote_cell_type": "markdown"
   }
  },
  {
   "cell_type": "code",
   "metadata": {
    "cell_id": "00012-dbfcfe5b-b09b-4956-b18e-c5530a44f23d",
    "deepnote_to_be_reexecuted": false,
    "execution_millis": 0,
    "execution_start": 1644443318508,
    "source_hash": "65d715da",
    "tags": [],
    "deepnote_cell_type": "code"
   },
   "source": "raw_data_columns = raw_data.columns\n\nimputer = SimpleImputer(strategy=\"mean\")\nraw_data = pd.DataFrame(imputer.fit_transform(raw_data))\nraw_data.columns = raw_data_columns\n",
   "execution_count": null,
   "outputs": []
  },
  {
   "cell_type": "code",
   "metadata": {
    "cell_id": "00013-10f9b467-911d-404c-b370-51c7bc3d9ad6",
    "deepnote_output_heights": [
     438
    ],
    "deepnote_to_be_reexecuted": false,
    "execution_millis": 32,
    "execution_start": 1644443318510,
    "source_hash": "eaf3d21",
    "deepnote_cell_type": "code"
   },
   "source": "check_null_values(raw_data)",
   "execution_count": null,
   "outputs": [
    {
     "output_type": "execute_result",
     "execution_count": 9,
     "data": {
      "application/vnd.deepnote.dataframe.v3+json": {
       "column_count": 2,
       "row_count": 14,
       "columns": [
        {
         "name": "Total",
         "dtype": "int64",
         "stats": {
          "unique_count": 1,
          "nan_count": 0,
          "min": "0",
          "max": "0",
          "histogram": [
           {
            "bin_start": -0.5,
            "bin_end": -0.4,
            "count": 0
           },
           {
            "bin_start": -0.4,
            "bin_end": -0.3,
            "count": 0
           },
           {
            "bin_start": -0.3,
            "bin_end": -0.19999999999999996,
            "count": 0
           },
           {
            "bin_start": -0.19999999999999996,
            "bin_end": -0.09999999999999998,
            "count": 0
           },
           {
            "bin_start": -0.09999999999999998,
            "bin_end": 0,
            "count": 0
           },
           {
            "bin_start": 0,
            "bin_end": 0.10000000000000009,
            "count": 14
           },
           {
            "bin_start": 0.10000000000000009,
            "bin_end": 0.20000000000000007,
            "count": 0
           },
           {
            "bin_start": 0.20000000000000007,
            "bin_end": 0.30000000000000004,
            "count": 0
           },
           {
            "bin_start": 0.30000000000000004,
            "bin_end": 0.4,
            "count": 0
           },
           {
            "bin_start": 0.4,
            "bin_end": 0.5,
            "count": 0
           }
          ]
         }
        },
        {
         "name": "Percent",
         "dtype": "float64",
         "stats": {
          "unique_count": 1,
          "nan_count": 0,
          "min": "0.0",
          "max": "0.0",
          "histogram": [
           {
            "bin_start": -0.5,
            "bin_end": -0.4,
            "count": 0
           },
           {
            "bin_start": -0.4,
            "bin_end": -0.3,
            "count": 0
           },
           {
            "bin_start": -0.3,
            "bin_end": -0.19999999999999996,
            "count": 0
           },
           {
            "bin_start": -0.19999999999999996,
            "bin_end": -0.09999999999999998,
            "count": 0
           },
           {
            "bin_start": -0.09999999999999998,
            "bin_end": 0,
            "count": 0
           },
           {
            "bin_start": 0,
            "bin_end": 0.10000000000000009,
            "count": 14
           },
           {
            "bin_start": 0.10000000000000009,
            "bin_end": 0.20000000000000007,
            "count": 0
           },
           {
            "bin_start": 0.20000000000000007,
            "bin_end": 0.30000000000000004,
            "count": 0
           },
           {
            "bin_start": 0.30000000000000004,
            "bin_end": 0.4,
            "count": 0
           },
           {
            "bin_start": 0.4,
            "bin_end": 0.5,
            "count": 0
           }
          ]
         }
        },
        {
         "name": "_deepnote_index_column",
         "dtype": "object"
        }
       ],
       "rows": [
        {
         "Total": 0,
         "Percent": 0,
         "_deepnote_index_column": "fixed acidity"
        },
        {
         "Total": 0,
         "Percent": 0,
         "_deepnote_index_column": "volatile acidity"
        },
        {
         "Total": 0,
         "Percent": 0,
         "_deepnote_index_column": "citric acid"
        },
        {
         "Total": 0,
         "Percent": 0,
         "_deepnote_index_column": "residual sugar"
        },
        {
         "Total": 0,
         "Percent": 0,
         "_deepnote_index_column": "chlorides"
        },
        {
         "Total": 0,
         "Percent": 0,
         "_deepnote_index_column": "free sulfur dioxide"
        },
        {
         "Total": 0,
         "Percent": 0,
         "_deepnote_index_column": "total sulfur dioxide"
        },
        {
         "Total": 0,
         "Percent": 0,
         "_deepnote_index_column": "density"
        },
        {
         "Total": 0,
         "Percent": 0,
         "_deepnote_index_column": "pH"
        },
        {
         "Total": 0,
         "Percent": 0,
         "_deepnote_index_column": "sulphates"
        }
       ]
      },
      "text/plain": "                      Total  Percent\nfixed acidity             0      0.0\nvolatile acidity          0      0.0\ncitric acid               0      0.0\nresidual sugar            0      0.0\nchlorides                 0      0.0\nfree sulfur dioxide       0      0.0\ntotal sulfur dioxide      0      0.0\ndensity                   0      0.0\npH                        0      0.0\nsulphates                 0      0.0\nalcohol                   0      0.0\nquality                   0      0.0\ntype_red                  0      0.0\ntype_white                0      0.0",
      "text/html": "<div>\n<style scoped>\n    .dataframe tbody tr th:only-of-type {\n        vertical-align: middle;\n    }\n\n    .dataframe tbody tr th {\n        vertical-align: top;\n    }\n\n    .dataframe thead th {\n        text-align: right;\n    }\n</style>\n<table border=\"1\" class=\"dataframe\">\n  <thead>\n    <tr style=\"text-align: right;\">\n      <th></th>\n      <th>Total</th>\n      <th>Percent</th>\n    </tr>\n  </thead>\n  <tbody>\n    <tr>\n      <th>fixed acidity</th>\n      <td>0</td>\n      <td>0.0</td>\n    </tr>\n    <tr>\n      <th>volatile acidity</th>\n      <td>0</td>\n      <td>0.0</td>\n    </tr>\n    <tr>\n      <th>citric acid</th>\n      <td>0</td>\n      <td>0.0</td>\n    </tr>\n    <tr>\n      <th>residual sugar</th>\n      <td>0</td>\n      <td>0.0</td>\n    </tr>\n    <tr>\n      <th>chlorides</th>\n      <td>0</td>\n      <td>0.0</td>\n    </tr>\n    <tr>\n      <th>free sulfur dioxide</th>\n      <td>0</td>\n      <td>0.0</td>\n    </tr>\n    <tr>\n      <th>total sulfur dioxide</th>\n      <td>0</td>\n      <td>0.0</td>\n    </tr>\n    <tr>\n      <th>density</th>\n      <td>0</td>\n      <td>0.0</td>\n    </tr>\n    <tr>\n      <th>pH</th>\n      <td>0</td>\n      <td>0.0</td>\n    </tr>\n    <tr>\n      <th>sulphates</th>\n      <td>0</td>\n      <td>0.0</td>\n    </tr>\n    <tr>\n      <th>alcohol</th>\n      <td>0</td>\n      <td>0.0</td>\n    </tr>\n    <tr>\n      <th>quality</th>\n      <td>0</td>\n      <td>0.0</td>\n    </tr>\n    <tr>\n      <th>type_red</th>\n      <td>0</td>\n      <td>0.0</td>\n    </tr>\n    <tr>\n      <th>type_white</th>\n      <td>0</td>\n      <td>0.0</td>\n    </tr>\n  </tbody>\n</table>\n</div>"
     },
     "metadata": {}
    }
   ]
  },
  {
   "cell_type": "markdown",
   "source": "## Data exploration",
   "metadata": {
    "cell_id": "00014-4e9d565f-cb5a-4d0a-b36e-e4d1a7925336",
    "deepnote_cell_type": "markdown"
   }
  },
  {
   "cell_type": "markdown",
   "source": "### Feature selection",
   "metadata": {
    "cell_id": "00015-a301fdfc-d61e-4216-bd2e-6921b71e2f98",
    "deepnote_cell_type": "markdown"
   }
  },
  {
   "cell_type": "markdown",
   "source": "#### Correlation between variables",
   "metadata": {
    "cell_id": "00016-133490d0-3566-4226-8c61-3f972935f0f6",
    "tags": [],
    "deepnote_cell_type": "markdown"
   }
  },
  {
   "cell_type": "code",
   "metadata": {
    "cell_id": "00017-7c3df3ce-214b-4460-8e7e-2f0e7c3f4a99",
    "deepnote_to_be_reexecuted": false,
    "execution_millis": 4,
    "execution_start": 1644443318552,
    "source_hash": "91dc0a31",
    "tags": [],
    "deepnote_cell_type": "code"
   },
   "source": "def plot_corr_matrix(df: pd.DataFrame(), size: Tuple) -> None:\n    corr = df.corr()\n    mask = np.triu(np.ones_like(corr, dtype=bool))\n    f, ax = plt.subplots(figsize=size)\n    cmap = sns.diverging_palette(230, 20, as_cmap=True)\n    sns.heatmap(\n        corr,\n        mask=mask,\n        cmap=cmap,\n        vmax=0.3,\n        center=0,\n        square=True,\n        linewidths=0.5,\n        cbar_kws={\"shrink\": 0.5},\n        annot=True,\n        annot_kws={\"size\": 10},\n    )\n    plt.show()\n",
   "execution_count": null,
   "outputs": []
  },
  {
   "cell_type": "code",
   "metadata": {
    "cell_id": "00018-798da0b0-a741-406b-b74c-6eaf750cee36",
    "deepnote_output_heights": [
     606
    ],
    "deepnote_to_be_reexecuted": false,
    "execution_millis": 1530,
    "execution_start": 1644443318609,
    "source_hash": "86681438",
    "deepnote_cell_type": "code"
   },
   "source": "plot_corr_matrix(df=raw_data, size=(11, 9))\n",
   "execution_count": null,
   "outputs": [
    {
     "data": {
      "text/plain": "<Figure size 792x648 with 2 Axes>",
      "image/png": "[encoded data removed]"
     },
     "metadata": {
      "needs_background": "light",
      "image/png": {
       "width": 678,
       "height": 604
      }
     },
     "output_type": "display_data"
    }
   ]
  },
  {
   "cell_type": "markdown",
   "source": "Check for causality on correlated features:\n- Volatile acidity: Refers to the acidic elements of a wine that are gaseous, rather than liquid, and therefore can be sensed as a smell.\n- Chlorides: Contribute to saltiness on taste.\n- Density: How grape concentrated is the wine during fermentation.\n- Alchohol: How alcohol concentrated is the wine.\n- Red or white: Type of wine.\n\nIt looks that all are features that cause an effect on wine quality.",
   "metadata": {
    "cell_id": "00019-74b445a3-8257-4aec-980c-9561e5b22d17",
    "deepnote_cell_type": "markdown"
   }
  },
  {
   "cell_type": "code",
   "metadata": {
    "cell_id": "00020-d57bd1a1-7a07-4896-8df8-4b167956c4e6",
    "deepnote_output_heights": [
     21.1875
    ],
    "deepnote_to_be_reexecuted": false,
    "execution_millis": 61,
    "execution_start": 1644443320080,
    "source_hash": "794cc14",
    "tags": [],
    "deepnote_cell_type": "code"
   },
   "source": "corr_feats = ['volatile acidity', 'chlorides', 'density', 'alcohol', 'type_red', 'type_white', 'quality']\nwine_df = raw_data[corr_feats] \nwine_df.shape\n",
   "execution_count": null,
   "outputs": [
    {
     "output_type": "execute_result",
     "execution_count": 12,
     "data": {
      "text/plain": "(6497, 7)"
     },
     "metadata": {}
    }
   ]
  },
  {
   "cell_type": "markdown",
   "source": "### Categorical distributions",
   "metadata": {
    "cell_id": "00021-a65cc785-6d54-4b98-9fa8-515061d461f5",
    "deepnote_cell_type": "markdown"
   }
  },
  {
   "cell_type": "code",
   "metadata": {
    "cell_id": "00022-d93850db-f0da-41f0-bf27-bf8d9b99edb2",
    "deepnote_to_be_reexecuted": false,
    "execution_millis": 0,
    "execution_start": 1644443320138,
    "source_hash": "6348e82e",
    "deepnote_cell_type": "code"
   },
   "source": "def describe_categorical_feature(df: pd.DataFrame(), feature: str, size: Tuple):\n    print(df[feature].describe())\n\n    f, ax = plt.subplots(figsize=size)\n    sns.countplot(y=feature, data=df)\n    plt.show()\n",
   "execution_count": null,
   "outputs": []
  },
  {
   "cell_type": "code",
   "metadata": {
    "cell_id": "00023-7b134dc4-edf6-469e-98af-862430a77d52",
    "deepnote_output_heights": [
     null,
     319
    ],
    "deepnote_to_be_reexecuted": false,
    "execution_millis": 233,
    "execution_start": 1644443320181,
    "source_hash": "149d1d64",
    "deepnote_cell_type": "code"
   },
   "source": "describe_categorical_feature(wine_df, \"quality\", (15, 5))\n",
   "execution_count": null,
   "outputs": [
    {
     "name": "stdout",
     "text": "count    6497.000000\nmean        5.818378\nstd         0.873255\nmin         3.000000\n25%         5.000000\n50%         6.000000\n75%         6.000000\nmax         9.000000\nName: quality, dtype: float64\n",
     "output_type": "stream"
    },
    {
     "data": {
      "text/plain": "<Figure size 1080x360 with 1 Axes>",
      "image/png": "[encoded data removed]"
     },
     "metadata": {
      "needs_background": "light",
      "image/png": {
       "width": 888,
       "height": 317
      }
     },
     "output_type": "display_data"
    }
   ]
  },
  {
   "cell_type": "code",
   "metadata": {
    "cell_id": "00024-8f50ffdb-5a8f-4938-aa1d-b881fba26cb4",
    "deepnote_output_heights": [
     null,
     319
    ],
    "deepnote_to_be_reexecuted": false,
    "execution_millis": 207,
    "execution_start": 1644443320416,
    "source_hash": "b8228e2f",
    "deepnote_cell_type": "code"
   },
   "source": "describe_categorical_feature(wine_df, \"type_white\", (15, 5))\n",
   "execution_count": null,
   "outputs": [
    {
     "name": "stdout",
     "text": "count    6497.000000\nmean        0.753886\nstd         0.430779\nmin         0.000000\n25%         1.000000\n50%         1.000000\n75%         1.000000\nmax         1.000000\nName: type_white, dtype: float64\n",
     "output_type": "stream"
    },
    {
     "data": {
      "text/plain": "<Figure size 1080x360 with 1 Axes>",
      "image/png": "[encoded data removed]"
     },
     "metadata": {
      "needs_background": "light",
      "image/png": {
       "width": 889,
       "height": 317
      }
     },
     "output_type": "display_data"
    }
   ]
  },
  {
   "cell_type": "markdown",
   "source": "### Numeric distributions",
   "metadata": {
    "cell_id": "00025-8f4c3d20-f2b7-4025-b019-d52b7eef1cf8",
    "deepnote_cell_type": "markdown"
   }
  },
  {
   "cell_type": "code",
   "metadata": {
    "cell_id": "00026-bb6327aa-4d7f-4394-a49c-ff65419d41b7",
    "deepnote_to_be_reexecuted": false,
    "execution_millis": 1,
    "execution_start": 1644443320679,
    "source_hash": "9aae62cb",
    "deepnote_cell_type": "code"
   },
   "source": "def feature_normality_analysis(df: pd.DataFrame(), feature: str, size: Tuple) -> None:\n    print(df[feature].describe())\n\n    # Normalized histogram\n    f, ax = plt.subplots(1, 2, figsize=size)\n    sns.distplot(df[feature], fit=norm, ax=ax[0]).set(\n        title=f\"{feature} normalized histogram\"\n    )\n\n    # Probability plot\n    res = probplot(df[feature], plot=ax[1])\n\n    f.suptitle(f\"{feature} normality analysis\")\n\n    plt.show()\n",
   "execution_count": null,
   "outputs": []
  },
  {
   "cell_type": "code",
   "metadata": {
    "cell_id": "00027-15fb7111-9ee5-426a-8348-763ce9860d85",
    "deepnote_output_heights": [
     null,
     355,
     null,
     355,
     null,
     355,
     null,
     355
    ],
    "deepnote_to_be_reexecuted": false,
    "execution_millis": 2767,
    "execution_start": 1644443320721,
    "source_hash": "b162b3af",
    "deepnote_cell_type": "code"
   },
   "source": "num_features = [\"volatile acidity\", \"chlorides\", \"density\", \"alcohol\"]\nfor feature in num_features:\n    feature_normality_analysis(wine_df, feature, (15, 5))\n",
   "execution_count": null,
   "outputs": [
    {
     "name": "stdout",
     "text": "count    6497.000000\nmean        0.339691\nstd         0.164548\nmin         0.080000\n25%         0.230000\n50%         0.290000\n75%         0.400000\nmax         1.580000\nName: volatile acidity, dtype: float64\n",
     "output_type": "stream"
    },
    {
     "data": {
      "text/plain": "<Figure size 1080x360 with 2 Axes>",
      "image/png": "[encoded data removed]"
     },
     "metadata": {
      "needs_background": "light",
      "image/png": {
       "width": 888,
       "height": 353
      }
     },
     "output_type": "display_data"
    },
    {
     "name": "stdout",
     "text": "count    6497.000000\nmean        0.056042\nstd         0.035031\nmin         0.009000\n25%         0.038000\n50%         0.047000\n75%         0.065000\nmax         0.611000\nName: chlorides, dtype: float64\n",
     "output_type": "stream"
    },
    {
     "data": {
      "text/plain": "<Figure size 1080x360 with 2 Axes>",
      "image/png": "[encoded data removed]"
     },
     "metadata": {
      "needs_background": "light",
      "image/png": {
       "width": 885,
       "height": 353
      }
     },
     "output_type": "display_data"
    },
    {
     "name": "stdout",
     "text": "count    6497.000000\nmean        0.994697\nstd         0.002999\nmin         0.987110\n25%         0.992340\n50%         0.994890\n75%         0.996990\nmax         1.038980\nName: density, dtype: float64\n",
     "output_type": "stream"
    },
    {
     "data": {
      "text/plain": "<Figure size 1080x360 with 2 Axes>",
      "image/png": "[encoded data removed]"
     },
     "metadata": {
      "needs_background": "light",
      "image/png": {
       "width": 891,
       "height": 353
      }
     },
     "output_type": "display_data"
    },
    {
     "name": "stdout",
     "text": "count    6497.000000\nmean       10.491801\nstd         1.192712\nmin         8.000000\n25%         9.500000\n50%        10.300000\n75%        11.300000\nmax        14.900000\nName: alcohol, dtype: float64\n",
     "output_type": "stream"
    },
    {
     "data": {
      "text/plain": "<Figure size 1080x360 with 2 Axes>",
      "image/png": "[encoded data removed]"
     },
     "metadata": {
      "needs_background": "light",
      "image/png": {
       "width": 888,
       "height": 353
      }
     },
     "output_type": "display_data"
    }
   ]
  },
  {
   "cell_type": "markdown",
   "source": "### Processing the data",
   "metadata": {
    "cell_id": "00028-9a6a1694-a491-4e03-b2c9-558cd86365a9",
    "deepnote_cell_type": "markdown"
   }
  },
  {
   "cell_type": "markdown",
   "source": "#### Feature normalization",
   "metadata": {
    "cell_id": "00029-032371e2-97e9-4261-8155-d29003e67c5a",
    "deepnote_cell_type": "markdown"
   }
  },
  {
   "cell_type": "code",
   "metadata": {
    "cell_id": "00030-0650908c-2cd5-4f3a-b4b0-b0db3f261e89",
    "deepnote_to_be_reexecuted": false,
    "execution_millis": 1,
    "execution_start": 1644443323532,
    "source_hash": "2b914c87",
    "deepnote_cell_type": "code"
   },
   "source": "wine_df[\"volatile acidity\"] = np.log(wine_df[\"volatile acidity\"])\n",
   "execution_count": null,
   "outputs": []
  },
  {
   "cell_type": "code",
   "metadata": {
    "cell_id": "00031-9df8f17d-aeb6-42dc-8487-2481991768b4",
    "deepnote_output_heights": [
     null,
     355
    ],
    "deepnote_to_be_reexecuted": false,
    "execution_millis": 707,
    "execution_start": 1644443323533,
    "source_hash": "173a72b6",
    "deepnote_cell_type": "code"
   },
   "source": "feature_normality_analysis(wine_df, \"volatile acidity\", (15, 5))\n",
   "execution_count": null,
   "outputs": [
    {
     "name": "stdout",
     "text": "count    6497.000000\nmean       -1.180084\nstd         0.438745\nmin        -2.525729\n25%        -1.469676\n50%        -1.237874\n75%        -0.916291\nmax         0.457425\nName: volatile acidity, dtype: float64\n",
     "output_type": "stream"
    },
    {
     "data": {
      "text/plain": "<Figure size 1080x360 with 2 Axes>",
      "image/png": "[encoded data removed]"
     },
     "metadata": {
      "needs_background": "light",
      "image/png": {
       "width": 888,
       "height": 353
      }
     },
     "output_type": "display_data"
    }
   ]
  },
  {
   "cell_type": "code",
   "metadata": {
    "cell_id": "00032-887d86cd-2aa9-48b9-8ff7-4b4f769795df",
    "deepnote_to_be_reexecuted": false,
    "execution_millis": 12352400,
    "execution_start": 1644443324247,
    "source_hash": "93790c02",
    "deepnote_cell_type": "code"
   },
   "source": "wine_df[\"chlorides\"] = np.clip(wine_df[\"chlorides\"], a_min=0, a_max=0.125)\nwine_df[\"chlorides\"] = np.log(wine_df[\"chlorides\"])\n",
   "execution_count": null,
   "outputs": []
  },
  {
   "cell_type": "code",
   "metadata": {
    "cell_id": "00033-f5425b1b-0e4e-459d-80e8-be2d075fb134",
    "deepnote_output_heights": [
     null,
     355
    ],
    "deepnote_to_be_reexecuted": false,
    "execution_millis": 1000,
    "execution_start": 1644443324252,
    "source_hash": "2dccc57a",
    "deepnote_cell_type": "code"
   },
   "source": "feature_normality_analysis(wine_df, \"chlorides\", (15, 5))\n",
   "execution_count": null,
   "outputs": [
    {
     "name": "stdout",
     "text": "count    6497.000000\nmean       -3.001680\nstd         0.396277\nmin        -4.710531\n25%        -3.270169\n50%        -3.057608\n75%        -2.733368\nmax        -2.079442\nName: chlorides, dtype: float64\n",
     "output_type": "stream"
    },
    {
     "data": {
      "text/plain": "<Figure size 1080x360 with 2 Axes>",
      "image/png": "[encoded data removed]"
     },
     "metadata": {
      "needs_background": "light",
      "image/png": {
       "width": 888,
       "height": 353
      }
     },
     "output_type": "display_data"
    }
   ]
  },
  {
   "cell_type": "code",
   "metadata": {
    "cell_id": "00034-bd42bfa9-358c-4398-b0da-525390a80a12",
    "deepnote_to_be_reexecuted": false,
    "execution_millis": 1,
    "execution_start": 1644443325009,
    "source_hash": "37934926",
    "deepnote_cell_type": "code"
   },
   "source": "wine_df[\"density\"] = np.clip(wine_df[\"density\"], a_min=0, a_max=1.005)\n",
   "execution_count": null,
   "outputs": []
  },
  {
   "cell_type": "code",
   "metadata": {
    "cell_id": "00035-f1f28cee-26f6-4f19-b1a9-82e1d9a602c1",
    "deepnote_output_heights": [
     null,
     355
    ],
    "deepnote_to_be_reexecuted": false,
    "execution_millis": 703,
    "execution_start": 1644443325053,
    "source_hash": "c4122cfc",
    "deepnote_cell_type": "code"
   },
   "source": "feature_normality_analysis(wine_df, \"density\", (15, 5))\n",
   "execution_count": null,
   "outputs": [
    {
     "name": "stdout",
     "text": "count    6497.000000\nmean        0.994690\nstd         0.002943\nmin         0.987110\n25%         0.992340\n50%         0.994890\n75%         0.996990\nmax         1.005000\nName: density, dtype: float64\n",
     "output_type": "stream"
    },
    {
     "data": {
      "text/plain": "<Figure size 1080x360 with 2 Axes>",
      "image/png": "[encoded data removed]"
     },
     "metadata": {
      "needs_background": "light",
      "image/png": {
       "width": 891,
       "height": 353
      }
     },
     "output_type": "display_data"
    }
   ]
  },
  {
   "cell_type": "markdown",
   "source": "### Segment & group by the target feature",
   "metadata": {
    "cell_id": "00036-06161072-7062-4fee-9561-19d68db270df",
    "deepnote_cell_type": "markdown"
   }
  },
  {
   "cell_type": "markdown",
   "source": "#### Segment the target by numeric features",
   "metadata": {
    "cell_id": "00037-ffe797ed-904a-47bd-acc3-3323efade231",
    "tags": [],
    "deepnote_cell_type": "markdown"
   }
  },
  {
   "cell_type": "code",
   "metadata": {
    "cell_id": "00038-d1d10736-e984-492a-a460-98252d47f307",
    "deepnote_output_heights": [
     264,
     264,
     264,
     264
    ],
    "deepnote_to_be_reexecuted": false,
    "execution_millis": 2094,
    "execution_start": 1644443325768,
    "source_hash": "4683431a",
    "deepnote_cell_type": "code"
   },
   "source": "for feature in num_features:\n    f, ax = plt.subplots()\n    sns.boxplot(y=wine_df[\"quality\"].astype(\"category\"), x=feature, data=wine_df)\n    plt.show()\n",
   "execution_count": null,
   "outputs": [
    {
     "data": {
      "text/plain": "<Figure size 432x288 with 1 Axes>",
      "image/png": "[encoded data removed]"
     },
     "metadata": {
      "needs_background": "light",
      "image/png": {
       "width": 386,
       "height": 262
      }
     },
     "output_type": "display_data"
    },
    {
     "data": {
      "text/plain": "<Figure size 432x288 with 1 Axes>",
      "image/png": "[encoded data removed]"
     },
     "metadata": {
      "needs_background": "light",
      "image/png": {
       "width": 392,
       "height": 262
      }
     },
     "output_type": "display_data"
    },
    {
     "data": {
      "text/plain": "<Figure size 432x288 with 1 Axes>",
      "image/png": "[encoded data removed]"
     },
     "metadata": {
      "needs_background": "light",
      "image/png": {
       "width": 388,
       "height": 262
      }
     },
     "output_type": "display_data"
    },
    {
     "data": {
      "text/plain": "<Figure size 432x288 with 1 Axes>",
      "image/png": "[encoded data removed]"
     },
     "metadata": {
      "needs_background": "light",
      "image/png": {
       "width": 386,
       "height": 262
      }
     },
     "output_type": "display_data"
    }
   ]
  },
  {
   "cell_type": "markdown",
   "source": "#### Segment Categorical features by the target class",
   "metadata": {
    "cell_id": "00039-2790bdbb-a54e-4130-8859-245db80c8ae4",
    "deepnote_cell_type": "markdown"
   }
  },
  {
   "cell_type": "markdown",
   "source": "##### Tabulate target across various categorical features using cross tab",
   "metadata": {
    "cell_id": "00040-88887502-1527-47a2-836d-0cb8a541a6c5",
    "deepnote_cell_type": "markdown"
   }
  },
  {
   "cell_type": "code",
   "metadata": {
    "cell_id": "00040-c2303194-13da-43ed-9634-96df228a7f21",
    "deepnote_output_heights": [
     264
    ],
    "deepnote_to_be_reexecuted": false,
    "execution_millis": 612,
    "execution_start": 1644443327251,
    "source_hash": "d3a833a8",
    "deepnote_cell_type": "code"
   },
   "source": "display(pd.crosstab(wine_df[\"quality\"], wine_df[\"type_white\"], normalize=\"index\"))\n",
   "execution_count": null,
   "outputs": [
    {
     "data": {
      "application/vnd.deepnote.dataframe.v3+json": {
       "column_count": 2,
       "row_count": 7,
       "columns": [
        {
         "name": 0,
         "dtype": "float64",
         "stats": {
          "unique_count": 7,
          "nan_count": 0,
          "min": "0.0",
          "max": "0.3333333333333333",
          "histogram": [
           {
            "bin_start": 0,
            "bin_end": 0.03333333333333333,
            "count": 1
           },
           {
            "bin_start": 0.03333333333333333,
            "bin_end": 0.06666666666666667,
            "count": 0
           },
           {
            "bin_start": 0.06666666666666667,
            "bin_end": 0.1,
            "count": 1
           },
           {
            "bin_start": 0.1,
            "bin_end": 0.13333333333333333,
            "count": 0
           },
           {
            "bin_start": 0.13333333333333333,
            "bin_end": 0.16666666666666666,
            "count": 0
           },
           {
            "bin_start": 0.16666666666666666,
            "bin_end": 0.2,
            "count": 1
           },
           {
            "bin_start": 0.2,
            "bin_end": 0.23333333333333334,
            "count": 1
           },
           {
            "bin_start": 0.23333333333333334,
            "bin_end": 0.26666666666666666,
            "count": 1
           },
           {
            "bin_start": 0.26666666666666666,
            "bin_end": 0.3,
            "count": 0
           },
           {
            "bin_start": 0.3,
            "bin_end": 0.3333333333333333,
            "count": 2
           }
          ]
         }
        },
        {
         "name": 1,
         "dtype": "float64",
         "stats": {
          "unique_count": 7,
          "nan_count": 0,
          "min": "0.6666666666666666",
          "max": "1.0",
          "histogram": [
           {
            "bin_start": 0.6666666666666666,
            "bin_end": 0.7,
            "count": 2
           },
           {
            "bin_start": 0.7,
            "bin_end": 0.7333333333333333,
            "count": 0
           },
           {
            "bin_start": 0.7333333333333333,
            "bin_end": 0.7666666666666666,
            "count": 1
           },
           {
            "bin_start": 0.7666666666666666,
            "bin_end": 0.8,
            "count": 1
           },
           {
            "bin_start": 0.8,
            "bin_end": 0.8333333333333333,
            "count": 1
           },
           {
            "bin_start": 0.8333333333333333,
            "bin_end": 0.8666666666666667,
            "count": 0
           },
           {
            "bin_start": 0.8666666666666667,
            "bin_end": 0.9,
            "count": 0
           },
           {
            "bin_start": 0.9,
            "bin_end": 0.9333333333333333,
            "count": 1
           },
           {
            "bin_start": 0.9333333333333333,
            "bin_end": 0.9666666666666667,
            "count": 0
           },
           {
            "bin_start": 0.9666666666666667,
            "bin_end": 1,
            "count": 1
           }
          ]
         }
        },
        {
         "name": "_deepnote_index_column",
         "dtype": "float64"
        }
       ],
       "rows": [
        {
         "0.0": 0.3333333333333333,
         "1.0": 0.6666666666666666,
         "_deepnote_index_column": 3
        },
        {
         "0.0": 0.24537037037037038,
         "1.0": 0.7546296296296297,
         "_deepnote_index_column": 4
        },
        {
         "0.0": 0.3185219831618335,
         "1.0": 0.6814780168381666,
         "_deepnote_index_column": 5
        },
        {
         "0.0": 0.22496473906911144,
         "1.0": 0.7750352609308886,
         "_deepnote_index_column": 6
        },
        {
         "0.0": 0.18443002780352177,
         "1.0": 0.8155699721964782,
         "_deepnote_index_column": 7
        },
        {
         "0.0": 0.09326424870466321,
         "1.0": 0.9067357512953368,
         "_deepnote_index_column": 8
        },
        {
         "0.0": 0,
         "1.0": 1,
         "_deepnote_index_column": 9
        }
       ]
      },
      "text/plain": "type_white       0.0       1.0\nquality                       \n3.0         0.333333  0.666667\n4.0         0.245370  0.754630\n5.0         0.318522  0.681478\n6.0         0.224965  0.775035\n7.0         0.184430  0.815570\n8.0         0.093264  0.906736\n9.0         0.000000  1.000000",
      "text/html": "<div>\n<style scoped>\n    .dataframe tbody tr th:only-of-type {\n        vertical-align: middle;\n    }\n\n    .dataframe tbody tr th {\n        vertical-align: top;\n    }\n\n    .dataframe thead th {\n        text-align: right;\n    }\n</style>\n<table border=\"1\" class=\"dataframe\">\n  <thead>\n    <tr style=\"text-align: right;\">\n      <th>type_white</th>\n      <th>0.0</th>\n      <th>1.0</th>\n    </tr>\n    <tr>\n      <th>quality</th>\n      <th></th>\n      <th></th>\n    </tr>\n  </thead>\n  <tbody>\n    <tr>\n      <th>3.0</th>\n      <td>0.333333</td>\n      <td>0.666667</td>\n    </tr>\n    <tr>\n      <th>4.0</th>\n      <td>0.245370</td>\n      <td>0.754630</td>\n    </tr>\n    <tr>\n      <th>5.0</th>\n      <td>0.318522</td>\n      <td>0.681478</td>\n    </tr>\n    <tr>\n      <th>6.0</th>\n      <td>0.224965</td>\n      <td>0.775035</td>\n    </tr>\n    <tr>\n      <th>7.0</th>\n      <td>0.184430</td>\n      <td>0.815570</td>\n    </tr>\n    <tr>\n      <th>8.0</th>\n      <td>0.093264</td>\n      <td>0.906736</td>\n    </tr>\n    <tr>\n      <th>9.0</th>\n      <td>0.000000</td>\n      <td>1.000000</td>\n    </tr>\n  </tbody>\n</table>\n</div>"
     },
     "metadata": {},
     "output_type": "display_data"
    }
   ]
  },
  {
   "cell_type": "markdown",
   "source": "##### Count plot of target across various categorical features",
   "metadata": {
    "cell_id": "00042-e6c19542-36dd-4a1b-9a83-6e9b29bd60af",
    "deepnote_cell_type": "markdown"
   }
  },
  {
   "cell_type": "code",
   "metadata": {
    "cell_id": "00041-db0ac879-4249-47ab-91b8-f5e80c2edf45",
    "deepnote_output_heights": [
     189.96875
    ],
    "deepnote_to_be_reexecuted": false,
    "execution_millis": 1721,
    "execution_start": 1644443327261,
    "source_hash": "1e44f228",
    "deepnote_cell_type": "code"
   },
   "source": "g = sns.catplot(x=\"type_white\", kind=\"count\", col=\"quality\", data=wine_df, sharey=False)\ng.set_xticklabels(rotation=60)\nplt.show()\n",
   "execution_count": null,
   "outputs": [
    {
     "data": {
      "text/plain": "<Figure size 2520x360 with 7 Axes>",
      "image/png": "[encoded data removed]"
     },
     "metadata": {
      "needs_background": "light",
      "image/png": {
       "width": 2512,
       "height": 361
      }
     },
     "output_type": "display_data"
    }
   ]
  },
  {
   "cell_type": "markdown",
   "source": "### Group numeric features by categorical features",
   "metadata": {
    "cell_id": "00044-54a021e4-ddfa-4166-80fb-839fbddc8d08",
    "deepnote_cell_type": "markdown"
   }
  },
  {
   "cell_type": "code",
   "metadata": {
    "cell_id": "00045-55aecdec-796f-4b79-81c8-fcf00f999966",
    "deepnote_output_heights": [
     119
    ],
    "deepnote_to_be_reexecuted": false,
    "source_hash": "20668fad",
    "execution_start": 1644443329040,
    "execution_millis": 13,
    "deepnote_cell_type": "code"
   },
   "source": "  display(wine_df.groupby('type_white')[num_features].mean())\n    ",
   "execution_count": null,
   "outputs": [
    {
     "data": {
      "application/vnd.deepnote.dataframe.v3+json": {
       "column_count": 4,
       "row_count": 2,
       "columns": [
        {
         "name": "volatile acidity",
         "dtype": "float64",
         "stats": {
          "unique_count": 2,
          "nan_count": 0,
          "min": "-1.337160869175394",
          "max": "-0.6989319974622139",
          "histogram": [
           {
            "bin_start": -1.337160869175394,
            "bin_end": -1.273337982004076,
            "count": 1
           },
           {
            "bin_start": -1.273337982004076,
            "bin_end": -1.209515094832758,
            "count": 0
           },
           {
            "bin_start": -1.209515094832758,
            "bin_end": -1.14569220766144,
            "count": 0
           },
           {
            "bin_start": -1.14569220766144,
            "bin_end": -1.081869320490122,
            "count": 0
           },
           {
            "bin_start": -1.081869320490122,
            "bin_end": -1.018046433318804,
            "count": 0
           },
           {
            "bin_start": -1.018046433318804,
            "bin_end": -0.954223546147486,
            "count": 0
           },
           {
            "bin_start": -0.954223546147486,
            "bin_end": -0.8904006589761679,
            "count": 0
           },
           {
            "bin_start": -0.8904006589761679,
            "bin_end": -0.8265777718048499,
            "count": 0
           },
           {
            "bin_start": -0.8265777718048499,
            "bin_end": -0.7627548846335319,
            "count": 0
           },
           {
            "bin_start": -0.7627548846335319,
            "bin_end": -0.6989319974622139,
            "count": 1
           }
          ]
         }
        },
        {
         "name": "chlorides",
         "dtype": "float64",
         "stats": {
          "unique_count": 2,
          "nan_count": 0,
          "min": "-3.154161858783508",
          "max": "-2.5346048009710804",
          "histogram": [
           {
            "bin_start": -3.154161858783508,
            "bin_end": -3.092206153002265,
            "count": 1
           },
           {
            "bin_start": -3.092206153002265,
            "bin_end": -3.0302504472210225,
            "count": 0
           },
           {
            "bin_start": -3.0302504472210225,
            "bin_end": -2.96829474143978,
            "count": 0
           },
           {
            "bin_start": -2.96829474143978,
            "bin_end": -2.906339035658537,
            "count": 0
           },
           {
            "bin_start": -2.906339035658537,
            "bin_end": -2.844383329877294,
            "count": 0
           },
           {
            "bin_start": -2.844383329877294,
            "bin_end": -2.7824276240960515,
            "count": 0
           },
           {
            "bin_start": -2.7824276240960515,
            "bin_end": -2.720471918314809,
            "count": 0
           },
           {
            "bin_start": -2.720471918314809,
            "bin_end": -2.658516212533566,
            "count": 0
           },
           {
            "bin_start": -2.658516212533566,
            "bin_end": -2.596560506752323,
            "count": 0
           },
           {
            "bin_start": -2.596560506752323,
            "bin_end": -2.5346048009710804,
            "count": 1
           }
          ]
         }
        },
        {
         "name": "density",
         "dtype": "float64",
         "stats": {
          "unique_count": 2,
          "nan_count": 0,
          "min": "0.9940182748060371",
          "max": "0.9967466791744831",
          "histogram": [
           {
            "bin_start": 0.9940182748060371,
            "bin_end": 0.9942911152428817,
            "count": 1
           },
           {
            "bin_start": 0.9942911152428817,
            "bin_end": 0.9945639556797263,
            "count": 0
           },
           {
            "bin_start": 0.9945639556797263,
            "bin_end": 0.9948367961165709,
            "count": 0
           },
           {
            "bin_start": 0.9948367961165709,
            "bin_end": 0.9951096365534156,
            "count": 0
           },
           {
            "bin_start": 0.9951096365534156,
            "bin_end": 0.9953824769902602,
            "count": 0
           },
           {
            "bin_start": 0.9953824769902602,
            "bin_end": 0.9956553174271047,
            "count": 0
           },
           {
            "bin_start": 0.9956553174271047,
            "bin_end": 0.9959281578639493,
            "count": 0
           },
           {
            "bin_start": 0.9959281578639493,
            "bin_end": 0.9962009983007939,
            "count": 0
           },
           {
            "bin_start": 0.9962009983007939,
            "bin_end": 0.9964738387376385,
            "count": 0
           },
           {
            "bin_start": 0.9964738387376385,
            "bin_end": 0.9967466791744831,
            "count": 1
           }
          ]
         }
        },
        {
         "name": "alcohol",
         "dtype": "float64",
         "stats": {
          "unique_count": 2,
          "nan_count": 0,
          "min": "10.422983114446502",
          "max": "10.514267047770149",
          "histogram": [
           {
            "bin_start": 10.422983114446502,
            "bin_end": 10.432111507778867,
            "count": 1
           },
           {
            "bin_start": 10.432111507778867,
            "bin_end": 10.441239901111231,
            "count": 0
           },
           {
            "bin_start": 10.441239901111231,
            "bin_end": 10.450368294443596,
            "count": 0
           },
           {
            "bin_start": 10.450368294443596,
            "bin_end": 10.45949668777596,
            "count": 0
           },
           {
            "bin_start": 10.45949668777596,
            "bin_end": 10.468625081108325,
            "count": 0
           },
           {
            "bin_start": 10.468625081108325,
            "bin_end": 10.477753474440691,
            "count": 0
           },
           {
            "bin_start": 10.477753474440691,
            "bin_end": 10.486881867773056,
            "count": 0
           },
           {
            "bin_start": 10.486881867773056,
            "bin_end": 10.49601026110542,
            "count": 0
           },
           {
            "bin_start": 10.49601026110542,
            "bin_end": 10.505138654437784,
            "count": 0
           },
           {
            "bin_start": 10.505138654437784,
            "bin_end": 10.514267047770149,
            "count": 1
           }
          ]
         }
        },
        {
         "name": "_deepnote_index_column",
         "dtype": "float64"
        }
       ],
       "rows": [
        {
         "volatile acidity": -0.6989319974622139,
         "chlorides": -2.5346048009710804,
         "density": 0.9967466791744831,
         "alcohol": 10.422983114446502,
         "_deepnote_index_column": 0
        },
        {
         "volatile acidity": -1.337160869175394,
         "chlorides": -3.154161858783508,
         "density": 0.9940182748060371,
         "alcohol": 10.514267047770149,
         "_deepnote_index_column": 1
        }
       ]
      },
      "text/plain": "            volatile acidity  chlorides   density    alcohol\ntype_white                                                  \n0.0                -0.698932  -2.534605  0.996747  10.422983\n1.0                -1.337161  -3.154162  0.994018  10.514267",
      "text/html": "<div>\n<style scoped>\n    .dataframe tbody tr th:only-of-type {\n        vertical-align: middle;\n    }\n\n    .dataframe tbody tr th {\n        vertical-align: top;\n    }\n\n    .dataframe thead th {\n        text-align: right;\n    }\n</style>\n<table border=\"1\" class=\"dataframe\">\n  <thead>\n    <tr style=\"text-align: right;\">\n      <th></th>\n      <th>volatile acidity</th>\n      <th>chlorides</th>\n      <th>density</th>\n      <th>alcohol</th>\n    </tr>\n    <tr>\n      <th>type_white</th>\n      <th></th>\n      <th></th>\n      <th></th>\n      <th></th>\n    </tr>\n  </thead>\n  <tbody>\n    <tr>\n      <th>0.0</th>\n      <td>-0.698932</td>\n      <td>-2.534605</td>\n      <td>0.996747</td>\n      <td>10.422983</td>\n    </tr>\n    <tr>\n      <th>1.0</th>\n      <td>-1.337161</td>\n      <td>-3.154162</td>\n      <td>0.994018</td>\n      <td>10.514267</td>\n    </tr>\n  </tbody>\n</table>\n</div>"
     },
     "metadata": {},
     "output_type": "display_data"
    }
   ]
  },
  {
   "cell_type": "markdown",
   "source": "## Model",
   "metadata": {
    "cell_id": "00046-0d63d991-4316-40f1-918c-50051d584e90",
    "deepnote_cell_type": "markdown"
   }
  },
  {
   "cell_type": "markdown",
   "source": "### Splitting data",
   "metadata": {
    "cell_id": "00047-835c38b6-32a2-42f7-9cfd-8a3d3f88ba5e",
    "deepnote_cell_type": "markdown"
   }
  },
  {
   "cell_type": "code",
   "metadata": {
    "cell_id": "00048-f0cc7b9a-449b-4bc3-aab6-d10048b13f7d",
    "deepnote_to_be_reexecuted": false,
    "source_hash": "59042f7d",
    "execution_start": 1644443329053,
    "execution_millis": 2,
    "deepnote_cell_type": "code"
   },
   "source": "X = wine_df.drop(\"quality\", axis=1)\ny = wine_df.quality\nX_train, X_test, y_train, y_test = train_test_split(\n    X, y, shuffle=True, random_state=128\n)\n",
   "execution_count": null,
   "outputs": []
  },
  {
   "cell_type": "markdown",
   "source": "### Create pipeline",
   "metadata": {
    "cell_id": "00049-eb2bba9f-c5b8-47d4-a359-86b59e2705a4",
    "deepnote_cell_type": "markdown"
   }
  },
  {
   "cell_type": "code",
   "metadata": {
    "cell_id": "00050-20b191e3-c8e8-43a9-8684-d69e7b55451a",
    "deepnote_to_be_reexecuted": false,
    "source_hash": "ac82d60a",
    "execution_start": 1644443329060,
    "execution_millis": 6,
    "deepnote_cell_type": "code"
   },
   "source": "pipeline = Pipeline([(\"scaler\", StandardScaler()), (\"model\", XGBClassifier())])\n",
   "execution_count": null,
   "outputs": []
  },
  {
   "cell_type": "markdown",
   "source": "### Best params",
   "metadata": {
    "cell_id": "00051-91e23e93-3ef3-47ef-94cb-6ecd20f2c1ef",
    "deepnote_cell_type": "markdown"
   }
  },
  {
   "cell_type": "code",
   "metadata": {
    "cell_id": "00052-d9c03d3d-2582-4d94-b0fa-982b5edff613",
    "deepnote_to_be_reexecuted": false,
    "source_hash": "f7cd96e0",
    "execution_start": 1644443329072,
    "execution_millis": 2,
    "deepnote_cell_type": "code"
   },
   "source": "params = {\n    \"model__learning_rate\": [0.01, 0.03, 0.1, 0.3, 1],\n    \"model__max_depth\": [3, 6, 9],\n    \"model__n_estimators\": [100, 500, 1000],\n}\nkf = KFold(n_splits=3)\n",
   "execution_count": null,
   "outputs": []
  },
  {
   "cell_type": "code",
   "metadata": {
    "cell_id": "00053-426a1ae7-b2d4-4fad-a34a-66c190076c27",
    "deepnote_to_be_reexecuted": false,
    "source_hash": "627432a8",
    "execution_start": 1644443716931,
    "execution_millis": 7644171,
    "deepnote_output_heights": [
     null,
     21.1875
    ],
    "deepnote_cell_type": "code"
   },
   "source": "clf = GridSearchCV(\n    estimator=pipeline,\n    param_grid=params,\n    scoring=\"neg_root_mean_squared_error\",\n    refit=True,\n    cv=kf,\n   n_jobs=-1,\n    verbose=1,\n)\nclf.fit(X_train, y_train)\njoblib.dump(clf, \"../model/clf.pkl\")\n#clf = joblib.load(\"../model/clf.pkl\")\n",
   "execution_count": null,
   "outputs": [
    {
     "name": "stdout",
     "text": "Fitting 3 folds for each of 45 candidates, totalling 135 fits\n[00:01:54] WARNING: ../src/learner.cc:1115: Starting in XGBoost 1.3.0, the default evaluation metric used with the objective 'multi:softprob' was changed from 'merror' to 'mlogloss'. Explicitly set eval_metric if you'd like to restore the old behavior.\n",
     "output_type": "stream"
    },
    {
     "output_type": "execute_result",
     "execution_count": 38,
     "data": {
      "text/plain": "['../model/clf.pkl']"
     },
     "metadata": {}
    }
   ]
  },
  {
   "cell_type": "code",
   "metadata": {
    "cell_id": "00054-0cbaffe7-c5e7-4d37-962a-bc103ecc1959",
    "deepnote_to_be_reexecuted": false,
    "source_hash": "ab451d29",
    "execution_start": 1644451361202,
    "execution_millis": 186,
    "deepnote_output_heights": [
     21.1875
    ],
    "deepnote_cell_type": "code"
   },
   "source": "print(\"Best parameters:\", clf.best_params_)\nprint(\"Lowest RMSE: \", (-clf.best_score_) ** (1 / 2.0))\n",
   "execution_count": null,
   "outputs": [
    {
     "name": "stdout",
     "text": "Best parameters: {'model__learning_rate': 0.1, 'model__max_depth': 9, 'model__n_estimators': 100}\nLowest RMSE:  0.8770817128586745\n",
     "output_type": "stream"
    }
   ]
  },
  {
   "cell_type": "markdown",
   "source": "<a style='text-decoration:none;line-height:16px;display:flex;color:#5B5B62;padding:10px;justify-content:end;' href='https://deepnote.com?utm_source=created-in-deepnote-cell&projectId=ae136382-4641-4f46-9b46-5dc65f92ec77' target=\"_blank\">\n<img alt='Created in deepnote.com' style='display:inline;max-height:16px;margin:0px;margin-right:7.5px;' src='data:image/svg+xml;base64,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' > </img>\nCreated in <span style='font-weight:600;margin-left:4px;'>Deepnote</span></a>",
   "metadata": {
    "tags": [],
    "created_in_deepnote_cell": true,
    "deepnote_cell_type": "markdown"
   }
  }
 ],
 "nbformat": 4,
 "nbformat_minor": 5,
 "metadata": {
  "deepnote": {},
  "deepnote_execution_queue": [],
  "deepnote_notebook_id": "8cdd20b1-d956-418d-8665-448fead2251e",
  "kernelspec": {
   "display_name": "Python 3 (ipykernel)",
   "language": "python",
   "name": "python3"
  },
  "language_info": {
   "codemirror_mode": {
    "name": "ipython",
    "version": 3
   },
   "file_extension": ".py",
   "mimetype": "text/x-python",
   "name": "python",
   "nbconvert_exporter": "python",
   "pygments_lexer": "ipython3",
   "version": "3.9.7"
  }
 }
}