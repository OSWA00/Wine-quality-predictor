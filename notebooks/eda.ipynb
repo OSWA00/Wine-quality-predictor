{
 "cells": [
  {
   "cell_type": "markdown",
   "id": "03c69bbf-27da-4a4f-ae64-b3a924d15032",
   "metadata": {},
   "source": [
    "# Exploratory data analysis: Wine quality data"
   ]
  },
  {
   "cell_type": "code",
   "execution_count": 17,
   "id": "2b3253e9-e3d0-4ea1-a345-7360daefb45b",
   "metadata": {},
   "outputs": [],
   "source": [
    "# Required modules\n",
    "import pandas as pd\n",
    "import numpy as np\n",
    "import seaborn as sns\n",
    "import scipy\n",
    "import matplotlib.pyplot as plt\n",
    "\n",
    "from sklearn.model_selection import train_test_split"
   ]
  },
  {
   "cell_type": "code",
   "execution_count": 22,
   "id": "c14b3acb-e5d2-4971-891b-737744f26228",
   "metadata": {},
   "outputs": [],
   "source": [
    "# Import raw data\n",
    "raw_data = pd.read_csv(\"../data/winequalityN.csv\")\n",
    "raw_data.head()\n",
    "\n",
    "x = raw_data.drop(['quality'], axis=1)\n",
    "y = raw_data.quality\n",
    "\n",
    "x_train, x_test, y_train, y_test = train_test_split(x, y, train_size=0.8, random_state=128)"
   ]
  },
  {
   "cell_type": "markdown",
   "id": "e205154d-1619-4aee-b521-02ef8438f832",
   "metadata": {},
   "source": [
    "## Data cleaning"
   ]
  },
  {
   "cell_type": "markdown",
   "id": "6c265914-92a4-4b4d-96b6-25e505ad8f41",
   "metadata": {},
   "source": [
    "### Missing values"
   ]
  },
  {
   "cell_type": "code",
   "execution_count": 23,
   "id": "6b2ddf0f-4235-4913-b57c-a7719da6b57b",
   "metadata": {},
   "outputs": [
    {
     "data": {
      "text/html": [
       "<div>\n",
       "<style scoped>\n",
       "    .dataframe tbody tr th:only-of-type {\n",
       "        vertical-align: middle;\n",
       "    }\n",
       "\n",
       "    .dataframe tbody tr th {\n",
       "        vertical-align: top;\n",
       "    }\n",
       "\n",
       "    .dataframe thead th {\n",
       "        text-align: right;\n",
       "    }\n",
       "</style>\n",
       "<table border=\"1\" class=\"dataframe\">\n",
       "  <thead>\n",
       "    <tr style=\"text-align: right;\">\n",
       "      <th></th>\n",
       "      <th>Total</th>\n",
       "      <th>Percent</th>\n",
       "    </tr>\n",
       "  </thead>\n",
       "  <tbody>\n",
       "    <tr>\n",
       "      <th>volatile acidity</th>\n",
       "      <td>7</td>\n",
       "      <td>0.134693</td>\n",
       "    </tr>\n",
       "    <tr>\n",
       "      <th>pH</th>\n",
       "      <td>7</td>\n",
       "      <td>0.134693</td>\n",
       "    </tr>\n",
       "    <tr>\n",
       "      <th>fixed acidity</th>\n",
       "      <td>6</td>\n",
       "      <td>0.115451</td>\n",
       "    </tr>\n",
       "    <tr>\n",
       "      <th>sulphates</th>\n",
       "      <td>4</td>\n",
       "      <td>0.076967</td>\n",
       "    </tr>\n",
       "    <tr>\n",
       "      <th>citric acid</th>\n",
       "      <td>2</td>\n",
       "      <td>0.038484</td>\n",
       "    </tr>\n",
       "    <tr>\n",
       "      <th>chlorides</th>\n",
       "      <td>2</td>\n",
       "      <td>0.038484</td>\n",
       "    </tr>\n",
       "    <tr>\n",
       "      <th>residual sugar</th>\n",
       "      <td>1</td>\n",
       "      <td>0.019242</td>\n",
       "    </tr>\n",
       "    <tr>\n",
       "      <th>type</th>\n",
       "      <td>0</td>\n",
       "      <td>0.000000</td>\n",
       "    </tr>\n",
       "    <tr>\n",
       "      <th>free sulfur dioxide</th>\n",
       "      <td>0</td>\n",
       "      <td>0.000000</td>\n",
       "    </tr>\n",
       "    <tr>\n",
       "      <th>total sulfur dioxide</th>\n",
       "      <td>0</td>\n",
       "      <td>0.000000</td>\n",
       "    </tr>\n",
       "    <tr>\n",
       "      <th>density</th>\n",
       "      <td>0</td>\n",
       "      <td>0.000000</td>\n",
       "    </tr>\n",
       "    <tr>\n",
       "      <th>alcohol</th>\n",
       "      <td>0</td>\n",
       "      <td>0.000000</td>\n",
       "    </tr>\n",
       "  </tbody>\n",
       "</table>\n",
       "</div>"
      ],
      "text/plain": [
       "                      Total   Percent\n",
       "volatile acidity          7  0.134693\n",
       "pH                        7  0.134693\n",
       "fixed acidity             6  0.115451\n",
       "sulphates                 4  0.076967\n",
       "citric acid               2  0.038484\n",
       "chlorides                 2  0.038484\n",
       "residual sugar            1  0.019242\n",
       "type                      0  0.000000\n",
       "free sulfur dioxide       0  0.000000\n",
       "total sulfur dioxide      0  0.000000\n",
       "density                   0  0.000000\n",
       "alcohol                   0  0.000000"
      ]
     },
     "execution_count": 23,
     "metadata": {},
     "output_type": "execute_result"
    }
   ],
   "source": [
    "total = x_train.isnull().sum().sort_values(ascending=False)\n",
    "percent = (x_train.isnull().sum() / x_train.isnull().count()).sort_values(\n",
    "    ascending=False\n",
    ")\n",
    "missing_data = pd.concat([total, percent * 100], axis=1, keys=[\"Total\", \"Percent\"])\n",
    "missing_data"
   ]
  },
  {
   "cell_type": "markdown",
   "id": "c19281f3-11cc-4add-9298-fbcdb49dcd3e",
   "metadata": {},
   "source": [
    "## Data exploration"
   ]
  },
  {
   "cell_type": "markdown",
   "id": "cb053b6e-9dd9-4f74-bacd-811360d53dcd",
   "metadata": {},
   "source": [
    "### Understanding the target variable"
   ]
  },
  {
   "cell_type": "code",
   "execution_count": 8,
   "id": "91fc9116-1bb2-4686-956e-34d7085cf6e5",
   "metadata": {},
   "outputs": [
    {
     "name": "stdout",
     "output_type": "stream",
     "text": [
      "Skewness: 0.189623\n",
      "Kurtosis: 0.232322\n"
     ]
    }
   ],
   "source": [
    "print(\"Skewness: %f\" % raw_data['quality'].skew())\n",
    "print(\"Kurtosis: %f\" % raw_data['quality'].kurt())"
   ]
  }
 ],
 "metadata": {
  "kernelspec": {
   "display_name": "Python 3 (ipykernel)",
   "language": "python",
   "name": "python3"
  },
  "language_info": {
   "codemirror_mode": {
    "name": "ipython",
    "version": 3
   },
   "file_extension": ".py",
   "mimetype": "text/x-python",
   "name": "python",
   "nbconvert_exporter": "python",
   "pygments_lexer": "ipython3",
   "version": "3.9.7"
  }
 },
 "nbformat": 4,
 "nbformat_minor": 5
}
