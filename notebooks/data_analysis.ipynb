{
 "cells": [
  {
   "cell_type": "markdown",
   "id": "26eda986",
   "metadata": {},
   "source": [
    "# EDA on Wine Quality Data Analysis"
   ]
  },
  {
   "cell_type": "markdown",
   "id": "e3ff2c32",
   "metadata": {},
   "source": [
    "## Disclosing the wine quality dataset"
   ]
  },
  {
   "cell_type": "markdown",
   "id": "e956a0b3",
   "metadata": {},
   "source": [
    "The wine quality dataset contains information about various physicochemical properties of wines. Each wine has a quality label associated with it. The label is in the range of 0 to 10."
   ]
  },
  {
   "cell_type": "code",
   "execution_count": 4,
   "id": "b0f52751",
   "metadata": {},
   "outputs": [],
   "source": [
    "import pandas as pd"
   ]
  },
  {
   "cell_type": "markdown",
   "id": "8bb6f64a",
   "metadata": {},
   "source": [
    "## Loading the dataset"
   ]
  },
  {
   "cell_type": "code",
   "execution_count": 5,
   "id": "343c0f1a",
   "metadata": {},
   "outputs": [
    {
     "data": {
      "text/plain": [
       "Index(['type', 'fixed acidity', 'volatile acidity', 'citric acid',\n",
       "       'residual sugar', 'chlorides', 'free sulfur dioxide',\n",
       "       'total sulfur dioxide', 'density', 'pH', 'sulphates', 'alcohol',\n",
       "       'quality'],\n",
       "      dtype='object')"
      ]
     },
     "execution_count": 5,
     "metadata": {},
     "output_type": "execute_result"
    }
   ],
   "source": [
    "df_raw = pd.read_csv(\"../data/winequalityN.csv\")\n",
    "df_raw.columns"
   ]
  },
  {
   "cell_type": "markdown",
   "id": "2ed457fc",
   "metadata": {},
   "source": [
    "- *Type*: Type of wine. Red or white.\n",
    "- *Fixed acidity*: Amount of tartaric acid in the wine. \n",
    "- *Volatile acidity*: Amount of acetic acid in the wine.\n",
    "- *Citric acid*: Amount of citric acid in the wine.\n",
    "- *Residual sugar*: Amount of sugar left in the wine after fermentation.\n",
    "- *Chlorides*:\n",
    "- *Free sulfur dioxide*: Amount of $SO_2$ in free form.\n",
    "- *Total sulfur dioxide*: Total amount of $SO_2$ in the wine. Works as an antioxidant and antimicrobial agent.\n",
    "- *Density*: Density of the wine.\n",
    "- *pH*: pH value of the wine. The range of value is between 0 (high acidity) to 14 (basic acidity).\n",
    "- *Sulphates*: Amount of potassium sulphate in the wine.\n",
    "- *Alcohol*: Alcohol content in the wine.\n",
    "- *Quality*: Quality of wine. The range of value is between 1 (worst) to 10 (best)."
   ]
  },
  {
   "cell_type": "code",
   "execution_count": null,
   "id": "dae71361",
   "metadata": {},
   "outputs": [],
   "source": []
  }
 ],
 "metadata": {
  "kernelspec": {
   "display_name": "Python 3 (ipykernel)",
   "language": "python",
   "name": "python3"
  },
  "language_info": {
   "codemirror_mode": {
    "name": "ipython",
    "version": 3
   },
   "file_extension": ".py",
   "mimetype": "text/x-python",
   "name": "python",
   "nbconvert_exporter": "python",
   "pygments_lexer": "ipython3",
   "version": "3.8.13"
  }
 },
 "nbformat": 4,
 "nbformat_minor": 5
}
